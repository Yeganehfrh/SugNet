{
 "cells": [
  {
   "cell_type": "code",
   "execution_count": 160,
   "metadata": {},
   "outputs": [],
   "source": [
    "# this script marks already detected bad channels in the bids files\n",
    "# imports\n",
    "import numpy as np\n",
    "import mne\n",
    "import os.path as op\n",
    "import pandas as pd\n",
    "from mne_bids import BIDSPath, read_raw_bids, mark_bad_channels\n",
    "import ast\n",
    "\n",
    "# directories\n",
    "study_name = 'Main-study'\n",
    "data_dir = '/Users/yeganeh/Documents/Raw Files/PLB_HYP_OTKA/Live Sessions'\n",
    "bids_root = f'/Users/yeganeh/Codes/otka-preprocessing/data/{study_name}'\n",
    "docs_dir = '/Users/yeganeh/Codes/otka-preprocessing/'"
   ]
  },
  {
   "cell_type": "code",
   "execution_count": null,
   "metadata": {},
   "outputs": [],
   "source": [
    "# creat bids path for the exsiting files\n",
    "bids_list = []\n",
    "subjects = ['01','02','03','22']\n",
    "descriptions = ['baseline1', 'baseline2',\n",
    "'experience1', 'experience2', 'experience3', 'experience4',\n",
    "'induction1', 'induction2', 'induction3', 'induction4']\n",
    "\n",
    "for subject in subjects:\n",
    "    for desc in descriptions:\n",
    "        bids_path = BIDSPath(subject=subject,\n",
    "                            session='01',\n",
    "                            task= desc,\n",
    "                            root=bids_root)\n",
    "        bids_list.append(bids_path)"
   ]
  },
  {
   "cell_type": "code",
   "execution_count": null,
   "metadata": {},
   "outputs": [],
   "source": [
    "# mark bad channels\n",
    "# read ids map that contains the list of bad channels\n",
    "ids_map = pd.read_excel(f'{docs_dir}/ids_map.xlsx', header=1)\n",
    "bad_channels = ids_map[['bids_id','bad_channels']]\n",
    "bad_channels.set_index('bids_id', inplace=True)\n",
    "bad_channels = bad_channels.loc[26:46]\n",
    "\n",
    "# get the bids path corresponding to each participants and mark bad channels for them based on their original ids\n",
    "value = -1\n",
    "for ind in bad_channels.index:\n",
    "    value = value + 1\n",
    "    temp_list = bids_list[value*10 : (value+1)*10]\n",
    "    bads = bad_channels.loc[ind][0]\n",
    "    if bads != '[]':\n",
    "        for bids_path in temp_list:\n",
    "            mark_bad_channels(ch_names=ast.literal_eval(bads), bids_path=bids_path, verbose=False, overwrite=True)\n",
    "\n",
    "# raw = read_raw_bids(bids_path=bids_path, verbose=False)"
   ]
  },
  {
   "cell_type": "code",
   "execution_count": null,
   "metadata": {},
   "outputs": [],
   "source": [
    "# checking the durations in the bids files\n",
    "# subjects = ['01','02','03','22']\n",
    "subjects = range(26,51)\n",
    "descriptions = ['baseline1', 'baseline2',\n",
    "'experience1', 'experience2', 'experience3', 'experience4',\n",
    "'induction1', 'induction2', 'induction3', 'induction4']\n",
    "\n",
    "all_subs_durations = {}\n",
    "\n",
    "for subject in subjects:\n",
    "    sub_path = []\n",
    "    durations = []\n",
    "    for desc in descriptions:\n",
    "        bids_path = BIDSPath(subject=str(subject),\n",
    "                            session='01',\n",
    "                            task= desc,\n",
    "                            root=bids_root)\n",
    "        sub_path.append(bids_path)\n",
    "\n",
    "    for path in sub_path:                  \n",
    "        raw = read_raw_bids(path)\n",
    "        durations.append(raw.annotations.duration)\n",
    "    \n",
    "    all_subs_durations[subject] = durations    \n",
    "\n",
    "pd.set_option('display.max_columns', None)\n",
    "pd.DataFrame.from_dict(all_subs_durations)   "
   ]
  }
 ],
 "metadata": {
  "interpreter": {
   "hash": "d539ee110e3d7f72862ae1acc5ad197a6467511f7b01c5e88c321aa8b0a828d7"
  },
  "kernelspec": {
   "display_name": "Python 3.9.1 64-bit ('base': conda)",
   "language": "python",
   "name": "python3"
  },
  "language_info": {
   "codemirror_mode": {
    "name": "ipython",
    "version": 3
   },
   "file_extension": ".py",
   "mimetype": "text/x-python",
   "name": "python",
   "nbconvert_exporter": "python",
   "pygments_lexer": "ipython3",
   "version": "3.9.1"
  },
  "orig_nbformat": 4
 },
 "nbformat": 4,
 "nbformat_minor": 2
}
