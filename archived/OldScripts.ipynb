{
 "cells": [
  {
   "cell_type": "markdown",
   "metadata": {},
   "source": [
    "# Old Scripts\n",
    "This notebook contains scripts that I didn't want to use in the pipeline but I didn't want to delete either."
   ]
  },
  {
   "cell_type": "markdown",
   "metadata": {},
   "source": [
    "## creating DigMontage from the information in header file"
   ]
  },
  {
   "cell_type": "code",
   "execution_count": null,
   "metadata": {},
   "outputs": [],
   "source": [
    "# montage from the header file\n",
    "# read header file\n",
    "config = configparser.ConfigParser()\n",
    "with open('data/raw/plb-hyp-live2131111.vhdr', 'r') as handler:\n",
    "    lines = []\n",
    "\n",
    "    while '[Comment]' not in (line := handler.readline()):\n",
    "        lines.append(line)\n",
    "\n",
    "    config.read_string(''.join(lines[1:]))\n",
    "\n",
    "# dictionary of channels positions\n",
    "ch_names = [config['Channel Infos'][f'Ch{num}'][:3].split(',')[0] for num in range(1,62)]\n",
    "ch_positions = [float(config['Coordinates'][f'Ch{num}'].split(',')[1:][i]) for num in range(1,62) for i in range(0,2)]\n",
    "positions_array = [np.append(np.array(ch_positions[i:i+2]),1) for i in range(0,61*2,2)] #\n",
    "positions_dict = dict(zip(ch_names,positions_array))\n",
    "\n",
    "# montage\n",
    "# pos = mne.channels.make_dig_montage(positions_dict)\n",
    "# pos.plot()"
   ]
  }
 ],
 "metadata": {
  "language_info": {
   "name": "python"
  },
  "orig_nbformat": 4
 },
 "nbformat": 4,
 "nbformat_minor": 2
}
