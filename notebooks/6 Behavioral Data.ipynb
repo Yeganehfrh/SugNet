{
 "cells": [
  {
   "attachments": {},
   "cell_type": "markdown",
   "metadata": {},
   "source": [
    "# Behavioral Data Analysis"
   ]
  },
  {
   "cell_type": "code",
   "execution_count": 1,
   "metadata": {},
   "outputs": [],
   "source": [
    "import pandas as pd\n",
    "from scipy import stats"
   ]
  },
  {
   "cell_type": "code",
   "execution_count": 2,
   "metadata": {},
   "outputs": [],
   "source": [
    "DATA = pd.read_excel('data/PLB_HYP_data_MASTER.xlsx')\n",
    "DATA = DATA.dropna(subset='bids_id') # drop the first 9 participants\n",
    "\n",
    "# Wide to Long\n",
    "DATA = DATA.melt(id_vars=[\n",
    "                          'procedure_type_1', 'procedure_type_2', 'procedure_type_3', 'procedure_type_4', 'bids_id',\n",
    "                          'description_type_1', 'description_type_2', 'description_type_3', 'description_type_4',\n",
    "                          'hypnosis_depth_1', 'hypnosis_depth_2', 'hypnosis_depth_3', 'hypnosis_depth_4',\n",
    "                          'trial_type_1', 'trial_type_2', 'trial_type_3', 'trial_type_4'\n",
    "                          ],\n",
    "                 value_vars=['expectancy_1', 'expectancy_2', 'expectancy_3', 'expectancy_4']\n",
    "                 )\n",
    "\n",
    "DATA['session'] = DATA['variable'].apply(lambda x:x.split('_')[1])\n",
    "DATA['procedure'] = DATA.apply(lambda r:r['procedure_type_'+r['session']], axis=1)\n",
    "DATA['description'] = DATA.apply(lambda r:r['description_type_'+r['session']], axis=1)\n",
    "DATA['hypnosis_depth'] = DATA.apply(lambda r:r['hypnosis_depth_'+r['session']], axis=1)\n",
    "DATA['trial_type'] = DATA.apply(lambda r:r['trial_type_'+r['session']], axis=1)\n",
    "\n",
    "DATA = DATA[['bids_id', 'session', 'trial_type', 'procedure', 'description', 'value', 'hypnosis_depth',]].sort_values(by=['bids_id', 'session'])\n",
    "DATA = DATA.rename(columns={'value': 'expectancy'})\n",
    "DATA.reset_index(drop=True, inplace=True)\n",
    "\n",
    "# replace true values with strings (having boolean values will affect ANOVA result)\n",
    "DATA = DATA.replace({True: 'real'})"
   ]
  },
  {
   "cell_type": "code",
   "execution_count": null,
   "metadata": {},
   "outputs": [],
   "source": [
    "# descriptive statistics\n",
    "DATA.query(\"description == 'hypnosis' and trial_type == 'sham'\")['hypnosis_depth'].std()"
   ]
  },
  {
   "attachments": {},
   "cell_type": "markdown",
   "metadata": {},
   "source": [
    "## t-test"
   ]
  },
  {
   "cell_type": "code",
   "execution_count": 13,
   "metadata": {},
   "outputs": [
    {
     "data": {
      "text/plain": [
       "Ttest_indResult(statistic=-1.3402203372021069, pvalue=0.18315149234014286)"
      ]
     },
     "execution_count": 13,
     "metadata": {},
     "output_type": "execute_result"
    }
   ],
   "source": [
    "dep_var = 'hypnosis_depth'\n",
    "conv = DATA.query(\"trial_type == 'sham' and description == 'hypnosis'\")[dep_var].values\n",
    "unconv = DATA.query(\"trial_type == 'real' and description == 'hypnosis'\")[dep_var].values\n",
    "\n",
    "# paired t-test\n",
    "stats.ttest_rel(conv, unconv)"
   ]
  },
  {
   "attachments": {},
   "cell_type": "markdown",
   "metadata": {},
   "source": [
    "## two-ways ANOVA"
   ]
  },
  {
   "cell_type": "code",
   "execution_count": 3,
   "metadata": {},
   "outputs": [],
   "source": [
    "from statsmodels.formula.api import ols\n",
    "from statsmodels.stats.anova import anova_lm"
   ]
  },
  {
   "cell_type": "code",
   "execution_count": 6,
   "metadata": {},
   "outputs": [
    {
     "data": {
      "text/html": [
       "<div>\n",
       "<style scoped>\n",
       "    .dataframe tbody tr th:only-of-type {\n",
       "        vertical-align: middle;\n",
       "    }\n",
       "\n",
       "    .dataframe tbody tr th {\n",
       "        vertical-align: top;\n",
       "    }\n",
       "\n",
       "    .dataframe thead th {\n",
       "        text-align: right;\n",
       "    }\n",
       "</style>\n",
       "<table border=\"1\" class=\"dataframe\">\n",
       "  <thead>\n",
       "    <tr style=\"text-align: right;\">\n",
       "      <th></th>\n",
       "      <th>sum_sq</th>\n",
       "      <th>df</th>\n",
       "      <th>F</th>\n",
       "      <th>PR(&gt;F)</th>\n",
       "    </tr>\n",
       "  </thead>\n",
       "  <tbody>\n",
       "    <tr>\n",
       "      <th>C(trial_type)</th>\n",
       "      <td>55.0433</td>\n",
       "      <td>1.0</td>\n",
       "      <td>6.5930</td>\n",
       "      <td>0.0109</td>\n",
       "    </tr>\n",
       "    <tr>\n",
       "      <th>C(description)</th>\n",
       "      <td>374.2356</td>\n",
       "      <td>1.0</td>\n",
       "      <td>44.8256</td>\n",
       "      <td>0.0000</td>\n",
       "    </tr>\n",
       "    <tr>\n",
       "      <th>Residual</th>\n",
       "      <td>1711.4856</td>\n",
       "      <td>205.0</td>\n",
       "      <td>NaN</td>\n",
       "      <td>NaN</td>\n",
       "    </tr>\n",
       "  </tbody>\n",
       "</table>\n",
       "</div>"
      ],
      "text/plain": [
       "                   sum_sq     df        F  PR(>F)\n",
       "C(trial_type)     55.0433    1.0   6.5930  0.0109\n",
       "C(description)   374.2356    1.0  44.8256  0.0000\n",
       "Residual        1711.4856  205.0      NaN     NaN"
      ]
     },
     "execution_count": 6,
     "metadata": {},
     "output_type": "execute_result"
    }
   ],
   "source": [
    "formula = 'hypnosis_depth ~ C(trial_type) + C(description)'\n",
    "model = ols(formula, DATA).fit()\n",
    "aov_table = anova_lm(model, typ=2)\n",
    "aov_table.round(4)"
   ]
  },
  {
   "attachments": {},
   "cell_type": "markdown",
   "metadata": {},
   "source": [
    "Participants' expectancy is widely dependent to the description type, but not to the trial type.\n",
    "Hypnosis depth ratings, on the other hand, significantly vary across different both th trial and description types."
   ]
  },
  {
   "attachments": {},
   "cell_type": "markdown",
   "metadata": {},
   "source": [
    "## Repeated measure ANOVA"
   ]
  },
  {
   "cell_type": "code",
   "execution_count": 24,
   "metadata": {},
   "outputs": [
    {
     "name": "stdout",
     "output_type": "stream",
     "text": [
      "                 Anova\n",
      "========================================\n",
      "          F Value Num DF  Den DF  Pr > F\n",
      "----------------------------------------\n",
      "procedure  1.0320 3.0000 153.0000 0.3802\n",
      "========================================\n",
      "\n"
     ]
    }
   ],
   "source": [
    "from statsmodels.stats.anova import AnovaRM\n",
    "aovrm = AnovaRM(DATA, depvar='expectancy', within=['procedure'], subject='bids_id')\n",
    "res = aovrm.fit()\n",
    "print(res)"
   ]
  },
  {
   "attachments": {},
   "cell_type": "markdown",
   "metadata": {},
   "source": [
    "### Grid results"
   ]
  },
  {
   "cell_type": "code",
   "execution_count": 3,
   "metadata": {},
   "outputs": [
    {
     "data": {
      "text/html": [
       "<div>\n",
       "<style scoped>\n",
       "    .dataframe tbody tr th:only-of-type {\n",
       "        vertical-align: middle;\n",
       "    }\n",
       "\n",
       "    .dataframe tbody tr th {\n",
       "        vertical-align: top;\n",
       "    }\n",
       "\n",
       "    .dataframe thead th {\n",
       "        text-align: right;\n",
       "    }\n",
       "</style>\n",
       "<table border=\"1\" class=\"dataframe\">\n",
       "  <thead>\n",
       "    <tr style=\"text-align: right;\">\n",
       "      <th></th>\n",
       "      <th>accuracy</th>\n",
       "      <th>method</th>\n",
       "      <th>signal_type</th>\n",
       "      <th>band</th>\n",
       "    </tr>\n",
       "  </thead>\n",
       "  <tbody>\n",
       "    <tr>\n",
       "      <th>0</th>\n",
       "      <td>0.468750</td>\n",
       "      <td>correlation</td>\n",
       "      <td>source</td>\n",
       "      <td>delta</td>\n",
       "    </tr>\n",
       "    <tr>\n",
       "      <th>1</th>\n",
       "      <td>0.593750</td>\n",
       "      <td>correlation</td>\n",
       "      <td>source</td>\n",
       "      <td>delta</td>\n",
       "    </tr>\n",
       "    <tr>\n",
       "      <th>2</th>\n",
       "      <td>0.437500</td>\n",
       "      <td>correlation</td>\n",
       "      <td>source</td>\n",
       "      <td>delta</td>\n",
       "    </tr>\n",
       "    <tr>\n",
       "      <th>3</th>\n",
       "      <td>0.531250</td>\n",
       "      <td>correlation</td>\n",
       "      <td>source</td>\n",
       "      <td>delta</td>\n",
       "    </tr>\n",
       "    <tr>\n",
       "      <th>4</th>\n",
       "      <td>0.437500</td>\n",
       "      <td>correlation</td>\n",
       "      <td>source</td>\n",
       "      <td>delta</td>\n",
       "    </tr>\n",
       "    <tr>\n",
       "      <th>...</th>\n",
       "      <td>...</td>\n",
       "      <td>...</td>\n",
       "      <td>...</td>\n",
       "      <td>...</td>\n",
       "    </tr>\n",
       "    <tr>\n",
       "      <th>1495</th>\n",
       "      <td>0.548387</td>\n",
       "      <td>wpli</td>\n",
       "      <td>sensor</td>\n",
       "      <td>gamma</td>\n",
       "    </tr>\n",
       "    <tr>\n",
       "      <th>1496</th>\n",
       "      <td>0.593750</td>\n",
       "      <td>wpli</td>\n",
       "      <td>sensor</td>\n",
       "      <td>gamma</td>\n",
       "    </tr>\n",
       "    <tr>\n",
       "      <th>1497</th>\n",
       "      <td>0.593750</td>\n",
       "      <td>wpli</td>\n",
       "      <td>sensor</td>\n",
       "      <td>gamma</td>\n",
       "    </tr>\n",
       "    <tr>\n",
       "      <th>1498</th>\n",
       "      <td>0.612903</td>\n",
       "      <td>wpli</td>\n",
       "      <td>sensor</td>\n",
       "      <td>gamma</td>\n",
       "    </tr>\n",
       "    <tr>\n",
       "      <th>1499</th>\n",
       "      <td>0.687500</td>\n",
       "      <td>wpli</td>\n",
       "      <td>sensor</td>\n",
       "      <td>gamma</td>\n",
       "    </tr>\n",
       "  </tbody>\n",
       "</table>\n",
       "<p>1500 rows × 4 columns</p>\n",
       "</div>"
      ],
      "text/plain": [
       "      accuracy       method signal_type   band\n",
       "0     0.468750  correlation      source  delta\n",
       "1     0.593750  correlation      source  delta\n",
       "2     0.437500  correlation      source  delta\n",
       "3     0.531250  correlation      source  delta\n",
       "4     0.437500  correlation      source  delta\n",
       "...        ...          ...         ...    ...\n",
       "1495  0.548387         wpli      sensor  gamma\n",
       "1496  0.593750         wpli      sensor  gamma\n",
       "1497  0.593750         wpli      sensor  gamma\n",
       "1498  0.612903         wpli      sensor  gamma\n",
       "1499  0.687500         wpli      sensor  gamma\n",
       "\n",
       "[1500 rows x 4 columns]"
      ]
     },
     "execution_count": 3,
     "metadata": {},
     "output_type": "execute_result"
    }
   ],
   "source": [
    "# nested grid results\n",
    "grid_results = pd.read_csv('data/classification_results/nested_grid_results_without_hp_tuning.csv',\n",
    "                           index_col=0)\n",
    "# remove plv results\n",
    "col = [i for i in grid_results.columns if 'plv' in i]\n",
    "grid_results.drop(columns=col, inplace=True)\n",
    "\n",
    "grid_results = grid_results.melt()\n",
    "grid_results[['method', 'signal_type', 'band']] = grid_results['variable'].apply(lambda x:x.split(' ')).apply(pd.Series)\n",
    "grid_results = grid_results.drop('variable', axis=1).rename({'value':'accuracy'}, axis=1)\n",
    "grid_results['band']= grid_results['band'].apply(lambda x:x[1:-1])\n",
    "\n",
    "grid_results"
   ]
  },
  {
   "cell_type": "code",
   "execution_count": 8,
   "metadata": {},
   "outputs": [
    {
     "data": {
      "text/html": [
       "<div>\n",
       "<style scoped>\n",
       "    .dataframe tbody tr th:only-of-type {\n",
       "        vertical-align: middle;\n",
       "    }\n",
       "\n",
       "    .dataframe tbody tr th {\n",
       "        vertical-align: top;\n",
       "    }\n",
       "\n",
       "    .dataframe thead th {\n",
       "        text-align: right;\n",
       "    }\n",
       "</style>\n",
       "<table border=\"1\" class=\"dataframe\">\n",
       "  <thead>\n",
       "    <tr style=\"text-align: right;\">\n",
       "      <th></th>\n",
       "      <th>sum_sq</th>\n",
       "      <th>df</th>\n",
       "      <th>F</th>\n",
       "      <th>PR(&gt;F)</th>\n",
       "    </tr>\n",
       "  </thead>\n",
       "  <tbody>\n",
       "    <tr>\n",
       "      <th>C(method)</th>\n",
       "      <td>0.7378</td>\n",
       "      <td>2.0</td>\n",
       "      <td>46.7494</td>\n",
       "      <td>0.0</td>\n",
       "    </tr>\n",
       "    <tr>\n",
       "      <th>C(band)</th>\n",
       "      <td>0.7604</td>\n",
       "      <td>4.0</td>\n",
       "      <td>24.0898</td>\n",
       "      <td>0.0</td>\n",
       "    </tr>\n",
       "    <tr>\n",
       "      <th>C(signal_type)</th>\n",
       "      <td>0.2872</td>\n",
       "      <td>1.0</td>\n",
       "      <td>36.3981</td>\n",
       "      <td>0.0</td>\n",
       "    </tr>\n",
       "    <tr>\n",
       "      <th>C(method):C(band)</th>\n",
       "      <td>0.4376</td>\n",
       "      <td>8.0</td>\n",
       "      <td>6.9321</td>\n",
       "      <td>0.0</td>\n",
       "    </tr>\n",
       "    <tr>\n",
       "      <th>C(method):C(signal_type)</th>\n",
       "      <td>0.8566</td>\n",
       "      <td>2.0</td>\n",
       "      <td>54.2758</td>\n",
       "      <td>0.0</td>\n",
       "    </tr>\n",
       "    <tr>\n",
       "      <th>C(band):C(signal_type)</th>\n",
       "      <td>0.4570</td>\n",
       "      <td>4.0</td>\n",
       "      <td>14.4763</td>\n",
       "      <td>0.0</td>\n",
       "    </tr>\n",
       "    <tr>\n",
       "      <th>Residual</th>\n",
       "      <td>11.6637</td>\n",
       "      <td>1478.0</td>\n",
       "      <td>NaN</td>\n",
       "      <td>NaN</td>\n",
       "    </tr>\n",
       "  </tbody>\n",
       "</table>\n",
       "</div>"
      ],
      "text/plain": [
       "                           sum_sq      df        F  PR(>F)\n",
       "C(method)                  0.7378     2.0  46.7494     0.0\n",
       "C(band)                    0.7604     4.0  24.0898     0.0\n",
       "C(signal_type)             0.2872     1.0  36.3981     0.0\n",
       "C(method):C(band)          0.4376     8.0   6.9321     0.0\n",
       "C(method):C(signal_type)   0.8566     2.0  54.2758     0.0\n",
       "C(band):C(signal_type)     0.4570     4.0  14.4763     0.0\n",
       "Residual                  11.6637  1478.0      NaN     NaN"
      ]
     },
     "execution_count": 8,
     "metadata": {},
     "output_type": "execute_result"
    }
   ],
   "source": [
    "from statsmodels.formula.api import ols\n",
    "from statsmodels.stats.anova import anova_lm\n",
    "\n",
    "formula = 'accuracy ~ C(method) + C(band) + C(signal_type) + C(method):C(band) + C(method):C(signal_type) + C(band):C(signal_type)'\n",
    "model = ols(formula, grid_results).fit()\n",
    "aov_table = anova_lm(model, typ=2)\n",
    "aov_table.round(4)"
   ]
  },
  {
   "cell_type": "code",
   "execution_count": 15,
   "metadata": {},
   "outputs": [],
   "source": [
    "from statsmodels.stats.multicomp import pairwise_tukeyhsd\n",
    "m_comp = pairwise_tukeyhsd(endog=grid_results['accuracy'], groups=grid_results['method'])"
   ]
  }
 ],
 "metadata": {
  "kernelspec": {
   "display_name": "otka",
   "language": "python",
   "name": "python3"
  },
  "language_info": {
   "codemirror_mode": {
    "name": "ipython",
    "version": 3
   },
   "file_extension": ".py",
   "mimetype": "text/x-python",
   "name": "python",
   "nbconvert_exporter": "python",
   "pygments_lexer": "ipython3",
   "version": "3.9.12"
  },
  "orig_nbformat": 4,
  "vscode": {
   "interpreter": {
    "hash": "a5940ee23a8ed7b2e3c21178d81a306e47a8b6a3c2b3d99c2f75b67b005e8c5b"
   }
  }
 },
 "nbformat": 4,
 "nbformat_minor": 2
}
