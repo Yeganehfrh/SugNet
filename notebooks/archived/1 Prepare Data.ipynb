{
 "cells": [
  {
   "cell_type": "markdown",
   "metadata": {},
   "source": [
    "# Prepare Data\n",
    "1. load power df\n",
    "1. reindex with subject and condition\n",
    "2. load behavioral df\n",
    "3. melt behavioral on condition\n",
    "4. join power and behavioral \n",
    "5. drop unnecessary rows and columns"
   ]
  },
  {
   "cell_type": "code",
   "execution_count": 14,
   "metadata": {},
   "outputs": [],
   "source": [
    "# setup \n",
    "import pandas as pd\n",
    " \n",
    "# open behavioral data and ids map\n",
    "bh = pd.read_csv('data/behavioral_data/archived/plb_hyp_data.csv', index_col='index')\n",
    "ids_map = pd.read_excel('docs/ids_map.xlsx', header=1, index_col='behavioral_id')\n",
    "ids_map = ids_map.drop_duplicates('bids_id')\n",
    "ids_map = ids_map[['bids_id']]\n",
    "ids_map['bids_id'] = ids_map['bids_id'].apply(lambda x:str(x).zfill(2))\n",
    "bh = bh.join(ids_map, how='right')\n",
    "bh = bh.melt(\n",
    "    id_vars=['procedure_type_1', 'procedure_type_2', 'procedure_type_3', 'procedure_type_4', 'bids_id',\n",
    "             'description_type_1', 'description_type_2', 'description_type_3', 'description_type_4',\n",
    "             'experiences_freetext_1', 'experiences_freetext_2', 'experiences_freetext_3', 'experiences_freetext_4'],\n",
    "    value_vars=['hypnosis_depth_1', 'hypnosis_depth_2', 'hypnosis_depth_3', 'hypnosis_depth_4'])\n",
    "bh['session'] = bh['variable'].apply(lambda x:x.split('_')[2])\n",
    "bh['procedure'] = bh.apply(lambda r: r['procedure_type_'+r['session']], axis=1)\n",
    "bh['description'] = bh.apply(lambda r: r['description_type_'+r['session']], axis=1)\n",
    "bh['freetext'] = bh.apply(lambda r: r['experiences_freetext_'+r['session']], axis=1)\n",
    "\n",
    "bh = bh[['bids_id', 'value', 'procedure', 'description', 'freetext', 'session']].sort_values(by=['bids_id', 'session']).set_index('bids_id')\n",
    "bh = bh.rename(columns={'value':'hypnosis_depth'})\n",
    "bh.reset_index(inplace=True)\n",
    "\n",
    "# bh.to_csv('data/behavioral_data/behavioral_data_with_freetext.csv', index=0)"
   ]
  },
  {
   "cell_type": "code",
   "execution_count": 4,
   "metadata": {},
   "outputs": [],
   "source": [
    "# open power data\n",
    "power = pd.read_excel('docs/psds_new.xlsx', index_col='Unnamed: 0', header=1)\n",
    "power.columns = power.columns.str.replace('lower_gamma', 'lowergamma')\n",
    "power[['bids_id', 'condition']] = power.index.to_series().apply(lambda x:x.split('-')).apply(pd.Series)\n",
    "power['session'] = power['condition'].apply(lambda x:x[-1])\n",
    "power.reset_index(drop=True, inplace=True)\n",
    "power = pd.merge(bh, power, how='right', on=['session', 'bids_id'], right_index=False)\n",
    "power = power.sort_values(by=['bids_id', 'session', 'condition']).reset_index(drop=True)\n",
    "power.insert(1, 'condition', power.pop('condition'))\n",
    "# power.to_csv('data/classification_dataset.csv')\n",
    "power.head()"
   ]
  },
  {
   "cell_type": "code",
   "execution_count": null,
   "metadata": {},
   "outputs": [],
   "source": [
    "# debug\n",
    "# power = power.query('condition.str.contains(\"experience\")', engine='python')"
   ]
  },
  {
   "cell_type": "code",
   "execution_count": 6,
   "metadata": {},
   "outputs": [
    {
     "data": {
      "text/plain": [
       "[]"
      ]
     },
     "execution_count": 6,
     "metadata": {},
     "output_type": "execute_result"
    }
   ],
   "source": [
    "DATA = pd.read_csv(f'data/classification_datasets/tobedeleted/plv_source.csv')\n",
    "DATA.sort_values(by=['bids_id', 'session'], inplace=True)\n",
    "DATA.drop(columns=['bids_id', 'session', 'condition','Unnamed: 0.1',\n",
    "                   'Unnamed: 0'], inplace=True)\n",
    "# DATA.to_csv(f'data/classification_datasets/plv_source.csv', index=False)"
   ]
  }
 ],
 "metadata": {
  "kernelspec": {
   "display_name": "Python 3.9.12 ('otka')",
   "language": "python",
   "name": "python3"
  },
  "language_info": {
   "codemirror_mode": {
    "name": "ipython",
    "version": 3
   },
   "file_extension": ".py",
   "mimetype": "text/x-python",
   "name": "python",
   "nbconvert_exporter": "python",
   "pygments_lexer": "ipython3",
   "version": "3.9.12"
  },
  "orig_nbformat": 4,
  "vscode": {
   "interpreter": {
    "hash": "a5940ee23a8ed7b2e3c21178d81a306e47a8b6a3c2b3d99c2f75b67b005e8c5b"
   }
  }
 },
 "nbformat": 4,
 "nbformat_minor": 2
}
