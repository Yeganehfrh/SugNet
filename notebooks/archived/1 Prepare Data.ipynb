{
 "cells": [
  {
   "cell_type": "markdown",
   "metadata": {},
   "source": [
    "# Prepare Data\n",
    "1. load power df\n",
    "1. reindex with subject and condition\n",
    "2. load behavioral df\n",
    "3. melt behavioral on condition\n",
    "4. join power and behavioral \n",
    "5. drop unnecessary rows and columns"
   ]
  },
  {
   "cell_type": "code",
   "execution_count": 4,
   "metadata": {},
   "outputs": [],
   "source": [
    "# setup \n",
    "import pandas as pd\n",
    " \n",
    "# open behavioral data and ids map\n",
    "bh = pd.read_csv('data/behavioral_data/archived/plb_hyp_data.csv', index_col='index')\n",
    "ids_map = pd.read_excel('docs/ids_map.xlsx', header=1, index_col='behavioral_id')\n",
    "ids_map = ids_map.drop_duplicates('bids_id')\n",
    "ids_map = ids_map[['bids_id']]\n",
    "ids_map['bids_id'] = ids_map['bids_id'].apply(lambda x:str(x).zfill(2))\n",
    "bh = bh.join(ids_map, how='right')\n",
    "bh = bh.melt(\n",
    "    id_vars=['procedure_type_1', 'procedure_type_2', 'procedure_type_3', 'procedure_type_4', 'bids_id',\n",
    "             'description_type_1', 'description_type_2', 'description_type_3', 'description_type_4',\n",
    "             'experiences_freetext_1', 'experiences_freetext_2', 'experiences_freetext_3', 'experiences_freetext_4'],\n",
    "    value_vars=['hypnosis_depth_1', 'hypnosis_depth_2', 'hypnosis_depth_3', 'hypnosis_depth_4'])\n",
    "bh['session'] = bh['variable'].apply(lambda x:x.split('_')[2])\n",
    "bh['procedure'] = bh.apply(lambda r: r['procedure_type_'+r['session']], axis=1)\n",
    "bh['description'] = bh.apply(lambda r: r['description_type_'+r['session']], axis=1)\n",
    "bh['freetext'] = bh.apply(lambda r: r['experiences_freetext_'+r['session']], axis=1)\n",
    "\n",
    "bh = bh[['bids_id', 'value', 'procedure', 'description', 'freetext', 'session']].sort_values(by=['bids_id', 'session']).set_index('bids_id')\n",
    "bh = bh.rename(columns={'value':'hypnosis_depth'})\n",
    "bh.reset_index(inplace=True)\n",
    "\n",
    "# bh.to_csv('data/behavioral_data/behavioral_data_with_freetext.csv', index=0)"
   ]
  },
  {
   "cell_type": "code",
   "execution_count": 4,
   "metadata": {},
   "outputs": [],
   "source": [
    "# open power data\n",
    "power = pd.read_excel('docs/psds_new.xlsx', index_col='Unnamed: 0', header=1)\n",
    "power.columns = power.columns.str.replace('lower_gamma', 'lowergamma')\n",
    "power[['bids_id', 'condition']] = power.index.to_series().apply(lambda x:x.split('-')).apply(pd.Series)\n",
    "power['session'] = power['condition'].apply(lambda x:x[-1])\n",
    "power.reset_index(drop=True, inplace=True)\n",
    "power = pd.merge(bh, power, how='right', on=['session', 'bids_id'], right_index=False)\n",
    "power = power.sort_values(by=['bids_id', 'session', 'condition']).reset_index(drop=True)\n",
    "power.insert(1, 'condition', power.pop('condition'))\n",
    "# power.to_csv('data/classification_dataset.csv')\n",
    "power.head()"
   ]
  },
  {
   "cell_type": "code",
   "execution_count": null,
   "metadata": {},
   "outputs": [],
   "source": [
    "# debug\n",
    "# power = power.query('condition.str.contains(\"experience\")', engine='python')"
   ]
  },
  {
   "cell_type": "code",
   "execution_count": 6,
   "metadata": {},
   "outputs": [
    {
     "data": {
      "text/plain": [
       "[]"
      ]
     },
     "execution_count": 6,
     "metadata": {},
     "output_type": "execute_result"
    }
   ],
   "source": [
    "DATA = pd.read_csv(f'data/classification_datasets/tobedeleted/plv_source.csv')\n",
    "DATA.sort_values(by=['bids_id', 'session'], inplace=True)\n",
    "DATA.drop(columns=['bids_id', 'session', 'condition','Unnamed: 0.1',\n",
    "                   'Unnamed: 0'], inplace=True)\n",
    "# DATA.to_csv(f'data/classification_datasets/plv_source.csv', index=False)"
   ]
  },
  {
   "cell_type": "markdown",
   "metadata": {},
   "source": [
    "## data for PyEEG workshop"
   ]
  },
  {
   "cell_type": "code",
   "execution_count": 120,
   "metadata": {},
   "outputs": [],
   "source": [
    "import pandas as pd\n",
    "import re\n",
    " \n",
    "# open data with free text and hypnotizability\n",
    "hypnotizability = pd.read_excel('data/behavioral_data/archived/PLB_HYP_data_MASTER.xlsx', index_col=0).loc[9:][['bids_id', 'hypnotizability_total', 'unique_id']]\n",
    "hypnotizability['bids_id'] = hypnotizability['bids_id'].apply(lambda x:str(int(x)).zfill(2))\n",
    "hypnotizability.set_index('bids_id', inplace=True)\n",
    "\n",
    "data = pd.read_csv('data/behavioral_data/behavioral_data_with_freetext.csv')\n",
    "data = data.query('description == \"hypnosis\"')\n",
    "data = data.query('procedure == \"confusion\" or procedure == \"relaxation\"')\n",
    "data.set_index('bids_id', inplace=True)\n",
    "\n",
    "# append hypnotizability\n",
    "data = data.join(hypnotizability, how='right')\n",
    "\n",
    "data['deep_hypnosis'] = data['hypnosis_depth'].apply(lambda x:True if x>=5 else False)\n",
    "data['z_score'] = data['hypnotizability_total'].transform(lambda x: (x - x.mean())/x.std())\n",
    "data.drop(columns=['description', 'session'], inplace=True)\n",
    "\n",
    "# data.dropna().iloc[10:]['z_score'].plot(kind='hist')\n",
    "# data.to_csv('data/behavioral_data/PyEEG_behavioral_data.csv', index=0)"
   ]
  },
  {
   "cell_type": "code",
   "execution_count": 8,
   "metadata": {},
   "outputs": [],
   "source": [
    "# open master behavioral file to get the\n",
    "data = pd.read_excel('data/behavioral_data/archived/PLB_HYP_data_MASTER.xlsx', index_col=0)\n",
    "data = data[['unique_id', 'bids_id', 'hypnotizability_total',\n",
    "      'description_type_1', 'description_type_2', 'description_type_3', 'description_type_4']]\n",
    "\n",
    "# open translations\n",
    "data_en = pd.read_excel('../text-analysis/Translation of experience reports.xlsx')\n",
    "\n",
    "\n",
    "data_en.rename(columns=\n",
    "               {'blinded_anonymized_text2_ENG': 'blinded_anonymized_text1_ENG',\n",
    "               'blinded_anonymized_text2_ENG.1': 'blinded_anonymized_text2_ENG'},\n",
    "               inplace=True)\n",
    "\n",
    "# merge two dataframes\n",
    "data_en = data_en.merge(data, on='unique_id')\n",
    "\n",
    "# unpivot\n",
    "data_en = data_en.melt(id_vars=['original_text_1', 'original_text_2', 'original_text_3', 'original_text_4',\n",
    "                      'blinded_anonymized_text1_HUN', 'blinded_anonymized_text2_HUN',\n",
    "                      'blinded_anonymized_text3_HUN', 'blinded_anonymized_text4_HUN',\n",
    "                      'blinded_anonymized_text1_ENG', 'blinded_anonymized_text2_ENG',\n",
    "                      'blinded_anonymized_text3_ENG', 'blinded_anonymized_text4_ENG',\n",
    "                      'description_type_1', 'description_type_2', 'description_type_3', 'description_type_4',\n",
    "                      'procedure_type_1', 'procedure_type_2', 'procedure_type_3', 'procedure_type_4',\n",
    "                      'unique_id', 'bids_id'],\n",
    "             value_vars=['hypnosis_depth_1', 'hypnosis_depth_2', 'hypnosis_depth_3', 'hypnosis_depth_4'])\n",
    "\n",
    "data_en['session'] = data_en['variable'].apply(lambda x:x.split('_')[2])\n",
    "data_en['procedure'] = data_en.apply(lambda r: r['procedure_type_'+r['session']], axis=1)\n",
    "data_en['description'] = data_en.apply(lambda r: r['description_type_'+r['session']], axis=1)\n",
    "data_en['original_text'] = data_en.apply(lambda r: r['original_text_'+r['session']], axis=1)\n",
    "data_en['blinded_anonymized_HUN'] = data_en.apply(lambda r: r['blinded_anonymized_text'+r['session']+'_HUN'], axis=1)\n",
    "data_en['blinded_anonymized_HUN'] = data_en.apply(lambda r: r['blinded_anonymized_text'+r['session']+'_HUN'], axis=1)\n",
    "data_en['blinded_anonymized_ENG'] = data_en.apply(lambda r: r['blinded_anonymized_text'+r['session']+'_ENG'], axis=1)\n",
    "data_en = data_en.iloc[:, -10:].drop(columns='variable')\n",
    "\n",
    "# only choose real trials that are descripted as hypnosis\n",
    "# data_en = data_en.query('description == \"hypnosis\"')\n",
    "# data_en = data_en.query('procedure == \"confusion\" or procedure == \"relaxation\"')\n",
    "data_en = data_en.rename(columns={'value': 'score'})\n",
    "data_en = data_en.dropna()\n",
    "\n",
    "data_en.reset_index(drop=True, inplace=True)\n",
    "\n",
    "# data_en.to_csv('behavioral_data_with_freetext.csv', index=0)\n",
    "\n",
    "data = data_en\n",
    "del data_en"
   ]
  },
  {
   "cell_type": "code",
   "execution_count": 261,
   "metadata": {},
   "outputs": [],
   "source": [
    "redacted_dict = {}\n",
    "\n",
    "for i in range(len(data)):\n",
    "    text_hun = data.loc[i, 'blinded_anonymized_HUN']\n",
    "    if '[' in text_hun:\n",
    "        redacted = re.finditer('[\\[\\]]', text_hun)\n",
    "        l1 = [m.start() for m in redacted]\n",
    "        \n",
    "        s_original = ''\n",
    "        s_blinded = ''\n",
    "        for j in range(int(len(l1)/2)):\n",
    "            s_original += data.loc[i, 'original_text'][l1[2*j]:l1[2*j+1]+1]\n",
    "            s_blinded += text_hun[l1[2*j]:l1[2*j+1]+1]\n",
    "        \n",
    "        redacted_dict[f'{i}_original'] = s_original\n",
    "        redacted_dict[f'{i}_Hun'] = s_blinded\n",
    "        \n",
    "        redacted = re.finditer('[\\[\\]]', data.loc[i, 'blinded_anonymized_ENG'])\n",
    "        l1 = [m.start() for m in redacted]\n",
    "        \n",
    "        s_english = ''\n",
    "        for j in range(int(len(l1)/2)):\n",
    "            s_english += data.loc[i, 'blinded_anonymized_ENG'][l1[2*j]:l1[2*j+1]+1]\n",
    "            \n",
    "        redacted_dict[f'{i}_Eng'] = s_english\n"
   ]
  },
  {
   "cell_type": "code",
   "execution_count": 264,
   "metadata": {},
   "outputs": [],
   "source": [
    "redacted_df = pd.DataFrame.from_dict(redacted_dict, orient='index', columns=['text']).reset_index()\n",
    "redacted_df['id'] = redacted_df['index'].apply(lambda x:x.split('_')[0]).astype('int')\n",
    "redacted_df['language'] = redacted_df['index'].apply(lambda x:x.split('_')[1])\n",
    "redacted_df.drop(columns='index', inplace=True)\n",
    "redacted_df = redacted_df.pivot(index='id', columns='language', values='text').sort_values(by='id')\n",
    "\n",
    "redacted_df[['original_text', 'blinded_anonymized_HUN', 'blinded_anonymized_ENG']] = data.iloc[redacted_df.index][['original_text', 'blinded_anonymized_HUN', 'blinded_anonymized_ENG']]\n",
    "# redacted_df.to_csv('redacted_texts.csv')"
   ]
  },
  {
   "cell_type": "code",
   "execution_count": 9,
   "metadata": {},
   "outputs": [],
   "source": [
    "data_redacted = pd.read_excel('../redacted_text.xlsx', header=1)\n",
    "data_redacted.set_index('id', inplace=True)\n",
    "for i in data_redacted.index:\n",
    "     data.loc[i, 'blinded_anonymized_ENG'] = data_redacted.loc[i, 'blinded_anonymized_ENG']\n",
    "\n",
    "data.to_csv('data_with_english_text.csv', index=0)"
   ]
  },
  {
   "cell_type": "markdown",
   "metadata": {},
   "source": [
    "### Create data for Workshop"
   ]
  },
  {
   "cell_type": "code",
   "execution_count": 59,
   "metadata": {},
   "outputs": [],
   "source": [
    "new_data = data.query('description == \"hypnosis\"')[['bids_id', 'score', 'procedure', 'original_text', 'blinded_anonymized_ENG']]\n",
    "new_data.rename(columns={'bids_id': 'id',\n",
    "                         'score': 'hypnosis_depth',\n",
    "                         'blinded_anonymized_ENG': 'eng_text'},\n",
    "                inplace=True)\n",
    "new_data = new_data[['id','procedure', 'hypnosis_depth', 'eng_text', 'original_text']]\n",
    "# new_data.sort_values('id', inplace=True)\n",
    "new_data.to_csv('data/behavioral_data/PyEEGW_behavioral_data.csv', index=0)"
   ]
  }
 ],
 "metadata": {
  "kernelspec": {
   "display_name": "Python 3.9.12 ('otka')",
   "language": "python",
   "name": "python3"
  },
  "language_info": {
   "codemirror_mode": {
    "name": "ipython",
    "version": 3
   },
   "file_extension": ".py",
   "mimetype": "text/x-python",
   "name": "python",
   "nbconvert_exporter": "python",
   "pygments_lexer": "ipython3",
   "version": "3.9.12"
  },
  "orig_nbformat": 4,
  "vscode": {
   "interpreter": {
    "hash": "a5940ee23a8ed7b2e3c21178d81a306e47a8b6a3c2b3d99c2f75b67b005e8c5b"
   }
  }
 },
 "nbformat": 4,
 "nbformat_minor": 2
}
