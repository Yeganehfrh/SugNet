{
 "cells": [
  {
   "cell_type": "markdown",
   "metadata": {},
   "source": [
    "# Source Reconstruction\n"
   ]
  },
  {
   "cell_type": "code",
   "execution_count": 1,
   "metadata": {},
   "outputs": [],
   "source": [
    "# Setup and imports\n",
    "import os.path as op\n",
    "import re\n",
    "from pathlib import Path\n",
    "\n",
    "import matplotlib.pyplot as plt\n",
    "import mne\n",
    "import mne_connectivity\n",
    "import numpy as np\n",
    "from IPython.display import clear_output\n",
    "from mne_connectivity import envelope_correlation\n",
    "from tqdm.auto import tqdm\n"
   ]
  },
  {
   "cell_type": "code",
   "execution_count": 5,
   "metadata": {},
   "outputs": [],
   "source": [
    "# Helper functions\n",
    "def creat_raw_from_epochs(epochs):\n",
    "    data = np.hstack(epochs.get_data())\n",
    "    info = mne.create_info(ch_names=epochs.ch_names,\n",
    "                           ch_types='eeg',\n",
    "                           sfreq=epochs.info['sfreq'])\n",
    "\n",
    "    raw = mne.io.RawArray(data, info)\n",
    "    raw.set_channel_types({'ECG': 'ecg', 'EOG1': 'eog', 'EOG2': 'eog'})\n",
    "    return raw\n",
    "\n",
    "def make_forward():\n",
    "    # fsaverage files\n",
    "    fs_dir = Path('data/fsaverage')\n",
    "\n",
    "    # The files live in:\n",
    "    trans = 'fsaverage'  # MNE has a built-in fsaverage transformation\n",
    "    src = fs_dir / 'bem' / 'fsaverage-ico-4-src.fif' # use icosahedron4 with 6.2 mm source spacing\n",
    "    src = mne.read_source_spaces(src)\n",
    "    bem = fs_dir / 'bem' / 'fsaverage-5120-5120-5120-bem-sol.fif'\n",
    "    \n",
    "    path:Path = Path('data/clean_data')\n",
    "    epochs_fname = path / 'sub-01_ses-01_task-baseline1_proc-clean_epo.fif'\n",
    "    epochs = mne.read_epochs(epochs_fname, preload=True)\n",
    "    epochs.resample(512)\n",
    "\n",
    "    # create raw object\n",
    "    raw = creat_raw_from_epochs(epochs)\n",
    "\n",
    "    # insert channel positions\n",
    "    montage = mne.channels.make_standard_montage('standard_1020')\n",
    "    raw.set_montage(montage)\n",
    "\n",
    "    # forward solution (the same across all subjects)\n",
    "    fwd = mne.make_forward_solution(raw.info, trans=trans, src=src,\n",
    "                                    bem=bem, eeg=True, mindist=5.0, n_jobs=-1, verbose=False)\n",
    "    del src, bem\n",
    "    return fwd\n",
    "\n",
    "def make_inverse_4baseline(subject: str,\n",
    "                           fwd: mne.forward.forward.Forward,\n",
    "                           path = Path('data/clean_data')):\n",
    "    \n",
    "    epochs_fname = path / f'{subject}_ses-01_task-baseline1_proc-clean_epo.fif'\n",
    "    epochs = mne.read_epochs(epochs_fname, preload=True)\n",
    "    epochs.resample(512)\n",
    "    \n",
    "    # create raw object\n",
    "    raw = creat_raw_from_epochs(epochs)\n",
    "\n",
    "    # insert channel positions\n",
    "    montage = mne.channels.make_standard_montage('standard_1020')\n",
    "    raw.set_montage(montage)\n",
    "    \n",
    "    raw.set_eeg_reference('average', projection=True)\n",
    "    \n",
    "    # covariance matrix\n",
    "    cov = mne.compute_raw_covariance(raw, method='auto', cv=5, n_jobs=-1)\n",
    "\n",
    "    # inverse operator\n",
    "    inv = mne.minimum_norm.make_inverse_operator(raw.info, fwd, cov, verbose=False)\n",
    "    \n",
    "    return inv\n",
    "\n",
    "def get_connectivity(subject: str,\n",
    "                     task: str,\n",
    "                     atlas_labels: list,\n",
    "                     inv: mne.minimum_norm.inverse.InverseOperator,\n",
    "                     path:Path = Path('data/clean_data')):\n",
    "    # open data\n",
    "    epochs_fname = path / f'{subject}_ses-01_task-{task}_proc-clean_epo.fif'\n",
    "    epochs = mne.read_epochs(epochs_fname, preload=True)\n",
    "    epochs.resample(512)\n",
    "    \n",
    "    montage = mne.channels.make_standard_montage('standard_1020')\n",
    "    epochs.set_montage(montage)\n",
    "\n",
    "    stc = mne.minimum_norm.apply_inverse_epochs(epochs,\n",
    "                                                inv,\n",
    "                                                method='eLORETA',\n",
    "                                                lambda2=1./9.,\n",
    "                                                verbose=False)\n",
    "    \n",
    "    \n",
    "    label_ts = mne.extract_label_time_course(stc,\n",
    "                                             atlas_labels,\n",
    "                                             inv['src'],\n",
    "                                             return_generator=False,\n",
    "                                             verbose=False)\n",
    "    \n",
    "    conn_obj = envelope_correlation(label_ts, orthogonalize='pairwise')\n",
    "    conn = conn_obj.combine()\n",
    "    conn = conn.get_data(output='dense')[..., 0]\n",
    "    \n",
    "    return conn"
   ]
  },
  {
   "cell_type": "markdown",
   "metadata": {},
   "source": [
    "# Forward and Inverse Model"
   ]
  },
  {
   "cell_type": "code",
   "execution_count": 8,
   "metadata": {},
   "outputs": [
    {
     "name": "stdout",
     "output_type": "stream",
     "text": [
      ">>>>>>>> sub-52 induction1\n",
      ">>>>>>>> sub-52 induction4\n"
     ]
    }
   ],
   "source": [
    "# we will use Yeo2011 atlas\n",
    "atlas_labels = mne.read_labels_from_annot('fsaverage',\n",
    "                                          'Yeo2011_17Networks_N1000',\n",
    "                                          subjects_dir='data/')\n",
    "\n",
    "# forward solution (same across all subjects)\n",
    "fwd = make_forward()\n",
    "\n",
    "for subject_path in sorted(Path('data/clean_data').glob('*.fif')):\n",
    "\n",
    "    subject, task = re.search('(.*)_ses.*_task-(.*)_proc.*', subject_path.stem).groups()\n",
    "    \n",
    "    output_path = Path(f'data/connectivities/{subject}_task-{task}_conn-corr.npz')\n",
    "    \n",
    "    # if output_path.exists():\n",
    "    #     continue\n",
    "        \n",
    "    print('>>>>>>>>', subject, task)\n",
    "    if task == 'baseline1':\n",
    "        inv = make_inverse_4baseline(subject, fwd)\n",
    "        \n",
    "    elif 'induction' in task or task == 'baseline2':\n",
    "        continue\n",
    "    \n",
    "    else: \n",
    "        conn = get_connectivity(subject, task, atlas_labels, inv)\n",
    "        np.savez(output_path, conn=conn)\n",
    "\n",
    "    clear_output()"
   ]
  },
  {
   "cell_type": "code",
   "execution_count": 14,
   "metadata": {},
   "outputs": [
    {
     "data": {
      "image/png": "[encoded data removed]",
      "text/plain": [
       "<Figure size 288x288 with 1 Axes>"
      ]
     },
     "metadata": {
      "needs_background": "light"
     },
     "output_type": "display_data"
    }
   ],
   "source": [
    "# visualization\n",
    "def plot_corr(corr, title):\n",
    "    fig, ax = plt.subplots(figsize=(4, 4), constrained_layout=True)\n",
    "    ax.imshow(corr, cmap='viridis', clim=np.percentile(corr, [5, 95]))\n",
    "    fig.suptitle(title)\n",
    "\n",
    "\n",
    "plot_corr(conn, 'Pairwise')"
   ]
  }
 ],
 "metadata": {
  "interpreter": {
   "hash": "a5940ee23a8ed7b2e3c21178d81a306e47a8b6a3c2b3d99c2f75b67b005e8c5b"
  },
  "kernelspec": {
   "display_name": "Python 3 (ipykernel)",
   "language": "python",
   "name": "python3"
  },
  "language_info": {
   "codemirror_mode": {
    "name": "ipython",
    "version": 3
   },
   "file_extension": ".py",
   "mimetype": "text/x-python",
   "name": "python",
   "nbconvert_exporter": "python",
   "pygments_lexer": "ipython3",
   "version": "3.9.12"
  }
 },
 "nbformat": 4,
 "nbformat_minor": 2
}
