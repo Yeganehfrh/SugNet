{
 "cells": [
  {
   "cell_type": "markdown",
   "metadata": {},
   "source": [
    "# Source Reconstruction\n",
    "1. create and save ico4 source spacing.\n"
   ]
  },
  {
   "cell_type": "code",
   "execution_count": null,
   "metadata": {},
   "outputs": [],
   "source": [
    "# DON'T RUN THIS CODE\n",
    "src = mne.setup_source_space('fsaverage', spacing='ico4')\n",
    "mne.write_source_spaces('fsaverage-ico4-src.fif', src)"
   ]
  },
  {
   "cell_type": "code",
   "execution_count": 1,
   "metadata": {},
   "outputs": [],
   "source": [
    "# Setup and imports\n",
    "import os.path as op\n",
    "import re\n",
    "from pathlib import Path\n",
    "\n",
    "import matplotlib.pyplot as plt\n",
    "import mne\n",
    "import mne_connectivity\n",
    "import numpy as np\n",
    "from IPython.display import clear_output\n",
    "from mne_connectivity import envelope_correlation\n",
    "from tqdm.auto import tqdm\n"
   ]
  },
  {
   "cell_type": "code",
   "execution_count": 2,
   "metadata": {},
   "outputs": [],
   "source": [
    "# Helper functions\n",
    "def insert_fcz_pos(epochs):\n",
    "    '''\n",
    "    add FCz position based on channels CPz\n",
    "    (Their positions are the same, only y-axis value is different)\n",
    "    '''\n",
    "    import copy\n",
    "    ch_names = copy.deepcopy(epochs.info['ch_names']) \n",
    "    [ch_names.remove(i) for i in ['ECG', 'EOG1', 'EOG2']]\n",
    "    pos_array = epochs._get_channel_positions()\n",
    "    \n",
    "    pos_fcz = pos_array[ch_names.index('CPz')] * np.array([1, -1, 1])\n",
    "    pos_array = np.insert(pos_array, 58, pos_fcz, axis=0)\n",
    "    pos_array = np.delete(pos_array, -1, axis=0)\n",
    "    \n",
    "    pos_dict = dict(zip(ch_names, pos_array))\n",
    "    pos = mne.channels.make_dig_montage(pos_dict)\n",
    "    \n",
    "    return pos\n",
    "\n",
    "def _make_montage(path='../../data/raw/plb-hyp-live2131111.vhdr'):\n",
    "    \"\"\"\n",
    "    Create a montage from barin vision raw data\n",
    "\n",
    "    Parameters\n",
    "    ----------\n",
    "    path : str\n",
    "        path to barinvision data header file\n",
    "\n",
    "    \"\"\"\n",
    "    import copy\n",
    "    raw = mne.io.read_raw_brainvision(path, verbose=False, misc=['ECG'])\n",
    "    raw.crop(1, 10)  # crop a small segment of the data to speed up data loading in next lines\n",
    "    raw.load_data().set_channel_types({'ECG': 'ecg'})\n",
    "    # raw.add_reference_channels('FCz')  # FCz was used as online reference\n",
    "    ch_names = copy.deepcopy(raw.info['ch_names'])  # make a deep copy of the lists of the\n",
    "    # channel names otherwise ecg channel will be removed in the raw object!!\n",
    "    ch_names.remove('ECG')\n",
    "\n",
    "    pos_array = raw._get_channel_positions()\n",
    "\n",
    "    # # add FCz position based on channels CPz (Their positions are the same, only y-axis value is different)\n",
    "    # pos_fcz = pos_array[ch_names.index('CPz')] * np.array([1, -1, 1])\n",
    "    # pos_array = np.insert(pos_array, 60, pos_fcz, axis=0)\n",
    "    # pos_array = np.delete(pos_array, -1, axis=0)\n",
    "\n",
    "    pos_dict = dict(zip(ch_names, pos_array))\n",
    "    pos = mne.channels.make_dig_montage(pos_dict)\n",
    "\n",
    "    return pos\n"
   ]
  },
  {
   "cell_type": "markdown",
   "metadata": {},
   "source": [
    "## FreeSurfer MRI reconstruction"
   ]
  },
  {
   "cell_type": "code",
   "execution_count": 3,
   "metadata": {},
   "outputs": [
    {
     "name": "stdout",
     "output_type": "stream",
     "text": [
      "Reading labels from parcellation...\n",
      "   read 18 labels from /Users/yeganeh/Codes/otka_classification/data/fsaverage/label/lh.Yeo2011_17Networks_N1000.annot\n",
      "   read 18 labels from /Users/yeganeh/Codes/otka_classification/data/fsaverage/label/rh.Yeo2011_17Networks_N1000.annot\n"
     ]
    }
   ],
   "source": [
    "# fsaverage files\n",
    "fs_dir = 'data/fsaverage'\n",
    "\n",
    "# The files live in:\n",
    "subject = 'fsaverage'\n",
    "trans = 'fsaverage'  # MNE has a built-in fsaverage transformation\n",
    "src = fs_dir / 'bem' / 'fsaverage-ico-4-src.fif' # use icosahedron4 with 6.2 mm source spacing\n",
    "bem = fs_dir / 'bem' / 'fsaverage-5120-5120-5120-bem-sol.fif'\n",
    "\n",
    "atlas_labels = mne.read_labels_from_annot('fsaverage',\n",
    "                                          'Yeo2011_17Networks_N1000',\n",
    "                                          subjects_dir='data/')"
   ]
  },
  {
   "cell_type": "markdown",
   "metadata": {},
   "source": [
    "## Compute Forward"
   ]
  },
  {
   "cell_type": "code",
   "execution_count": null,
   "metadata": {},
   "outputs": [],
   "source": [
    "path:Path = Path('data/clean_data')\n",
    "task = 'baseline11'\n",
    "subject = 'sub-1'\n",
    "epochs_fname = path / f'{subject}_ses-01_task-{task}_proc-clean_epo.fif'\n",
    "epochs = mne.read_epochs(epochs_fname, preload=True)\n",
    "epochs.resample(512)\n",
    "\n",
    "pos = insert_fcz_pos(epochs)\n",
    "epochs.set_montage(pos)\n",
    "\n",
    "# forward solution (the same for all subjects)\n",
    "fwd = mne.make_forward_solution(epochs.info, trans=trans, src=src,\n",
    "                                bem=bem, eeg=True, mindist=5.0, n_jobs=-1, verbose=False)"
   ]
  },
  {
   "cell_type": "code",
   "execution_count": null,
   "metadata": {},
   "outputs": [],
   "source": [
    "# covariance matrix\n",
    "cov = mne.compute_raw_covariance(raw, method='auto', n_jobs=-1)\n",
    "\n",
    "# inverse operator\n",
    "inv = mne.minimum_norm.make_inverse_operator(epochs.info, fwd, cov, loose=0.2, verbose=False)\n",
    "    \n",
    "def get_connectivity(subject: str,\n",
    "                     task: str,\n",
    "                     atlas_labels: list,\n",
    "                     path:Path = Path('data/clean_data')):\n",
    "    # open data\n",
    "    epochs_fname = path / f'{subject}_ses-01_task-{task}_proc-clean_epo.fif'\n",
    "    epochs = mne.read_epochs(epochs_fname, preload=True)\n",
    "    epochs.resample(256)\n",
    "\n",
    "    # Add FCz position (consider dropping this channel because the position might not be exact)\n",
    "    pos = insert_fcz_pos(epochs)\n",
    "    epochs.set_montage(pos)\n",
    "\n",
    "    # epochs.set_eeg_reference(projection=True)\n",
    "    stc = mne.minimum_norm.apply_inverse_epochs(epochs, inv, method='eLORETA',\n",
    "                                                lambda2=1./9.,\n",
    "                                                verbose=False)\n",
    "    \n",
    "    label_ts = mne.extract_label_time_course(stc,\n",
    "                                             atlas_labels,\n",
    "                                             inv['src'],\n",
    "                                             return_generator=False,\n",
    "                                             verbose=False)\n",
    "    \n",
    "    # print(type(label_ts), label_ts.__len__(), label_ts)\n",
    "    # return\n",
    "    \n",
    "    conn_obj = envelope_correlation(label_ts, orthogonalize='pairwise')\n",
    "    conn = conn_obj.combine()\n",
    "    conn = conn.get_data(output='dense')[..., 0]\n",
    "    \n",
    "    return conn\n",
    "\n",
    "get_connectivity('sub-01', 'baseline1', atlas_labels)\n"
   ]
  },
  {
   "cell_type": "code",
   "execution_count": 138,
   "metadata": {},
   "outputs": [
    {
     "name": "stdout",
     "output_type": "stream",
     "text": [
      "Reading /Users/yeganeh/Codes/otka_classification/data/clean_data/sub-52_ses-01_task-induction1_proc-clean_epo.fif ...\n",
      "    Found the data of interest:\n",
      "        t =       0.00 ...     999.00 ms\n",
      "        0 CTF compensation matrices available\n",
      "0 bad epochs dropped\n",
      "Not setting metadata\n",
      "335 matching events found\n",
      "No baseline correction applied\n",
      "0 projection items activated\n"
     ]
    },
    {
     "name": "stderr",
     "output_type": "stream",
     "text": [
      "/var/folders/pn/qy0qc5tx7t7_97xjmy6pvksc0000gn/T/ipykernel_36293/3797099128.py:9: RuntimeWarning: Fiducial point nasion not found, assuming identity unknown to head transformation\n",
      "  epochs.set_montage(pos)\n"
     ]
    },
    {
     "name": "stdout",
     "output_type": "stream",
     "text": [
      "Computing rank from data with rank=None\n",
      "    Using tolerance 8.6e-11 (2.2e-16 eps * 59 dim * 6.6e+03  max singular value)\n",
      "    Estimated rank (eeg): 59\n",
      "    EEG: rank 59 computed from 59 data channels with 0 projectors\n",
      "Reducing data rank from 59 -> 59\n",
      "Estimating covariance using SHRUNK\n",
      "Done.\n",
      "Estimating covariance using DIAGONAL_FIXED\n",
      "    EEG regularization : 0.1\n",
      "Done.\n",
      "Estimating covariance using EMPIRICAL\n",
      "Done.\n",
      "Using cross-validation to select the best estimator.\n",
      "    EEG regularization : 0.1\n",
      "    EEG regularization : 0.1\n",
      "    EEG regularization : 0.1\n",
      "Number of samples used : 85760\n",
      "log-likelihood on unseen data (descending order):\n",
      "   shrunk: -138.054\n",
      "   diagonal_fixed: -156.417\n",
      "   empirical: -166.140\n",
      "selecting best estimator: shrunk\n",
      "[done]\n"
     ]
    }
   ],
   "source": [
    "path:Path = Path('data/clean_data')\n",
    "task = 'induction1'\n",
    "subject = 'sub-52'\n",
    "epochs_fname = path / f'{subject}_ses-01_task-{task}_proc-clean_epo.fif'\n",
    "epochs = mne.read_epochs(epochs_fname, preload=True)\n",
    "epochs.resample(256)\n",
    "\n",
    "pos = insert_fcz_pos(epochs)\n",
    "epochs.set_montage(pos)\n",
    "\n",
    "# forward solution\n",
    "fwd = mne.make_forward_solution(epochs.info, trans=trans, src=src,\n",
    "                                bem=bem, eeg=True, mindist=5.0, n_jobs=-1, verbose=False)\n",
    "# covariance matrix\n",
    "cov = mne.compute_covariance(epochs, method='auto')\n",
    "inv2 = mne.minimum_norm.make_inverse_operator(epochs.info, fwd, cov, loose=0.2, verbose=False)"
   ]
  },
  {
   "cell_type": "code",
   "execution_count": null,
   "metadata": {},
   "outputs": [],
   "source": [
    "for subject_path in sorted(Path('data/clean_data').glob('*.fif')):\n",
    "\n",
    "    subject, task = re.search('(.*)_ses.*_task-(.*)_proc.*', subject_path.stem).groups()\n",
    "    \n",
    "    output_path = Path(f'data/connectivities/{subject}_task-{task}_conn-corr.npz')\n",
    "    \n",
    "    if output_path.exists():\n",
    "        continue\n",
    "        \n",
    "    print('>>>>>>>>', subject, task)\n",
    "\n",
    "    conn = get_connectivity(subject, task)\n",
    "    np.savez(output_path, conn=conn)\n",
    "\n",
    "    clear_output()"
   ]
  },
  {
   "cell_type": "code",
   "execution_count": 21,
   "metadata": {},
   "outputs": [
    {
     "data": {
      "image/png": "[encoded data removed]",
      "text/plain": [
       "<Figure size 288x288 with 1 Axes>"
      ]
     },
     "metadata": {
      "needs_background": "light"
     },
     "output_type": "display_data"
    }
   ],
   "source": [
    "corr_obj = envelope_correlation(label_ts, orthogonalize='pairwise')\n",
    "corr = corr_obj.combine()\n",
    "corr = corr.get_data(output='dense')[:, :, 0]\n",
    "\n",
    "def plot_corr(corr, title):\n",
    "    fig, ax = plt.subplots(figsize=(4, 4), constrained_layout=True)\n",
    "    ax.imshow(corr, cmap='viridis', clim=np.percentile(corr, [5, 95]))\n",
    "    fig.suptitle(title)\n",
    "\n",
    "\n",
    "plot_corr(corr, 'Pairwise')\n",
    "\n",
    "\n",
    "# def plot_degree(corr, title):\n",
    "#     threshold_prop = 0.15  # percentage of strongest edges to keep in the graph\n",
    "#     degree = mne_connectivity.degree(corr, threshold_prop=threshold_prop)\n",
    "#     stc = mne.labels_to_stc(labels, degree)\n",
    "#     stc = stc.in_label(mne.Label(inv['src'][0]['vertno'], hemi='lh') +\n",
    "#                        mne.Label(inv['src'][1]['vertno'], hemi='rh'))\n",
    "#     return stc.plot(\n",
    "#         clim=dict(kind='percent', lims=[75, 85, 95]), colormap='gnuplot',\n",
    "#         subjects_dir=subjects_dir, views='dorsal', hemi='both',\n",
    "#         smoothing_steps=25, time_label=title)\n",
    "\n",
    "\n",
    "# brain = plot_degree(corr, 'Beta (pairwise, aparc_sub)')"
   ]
  }
 ],
 "metadata": {
  "interpreter": {
   "hash": "a5940ee23a8ed7b2e3c21178d81a306e47a8b6a3c2b3d99c2f75b67b005e8c5b"
  },
  "kernelspec": {
   "display_name": "Python 3 (ipykernel)",
   "language": "python",
   "name": "python3"
  },
  "language_info": {
   "codemirror_mode": {
    "name": "ipython",
    "version": 3
   },
   "file_extension": ".py",
   "mimetype": "text/x-python",
   "name": "python",
   "nbconvert_exporter": "python",
   "pygments_lexer": "ipython3",
   "version": "3.9.12"
  }
 },
 "nbformat": 4,
 "nbformat_minor": 2
}
