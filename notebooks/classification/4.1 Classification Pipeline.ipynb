{
 "cells": [
  {
   "cell_type": "markdown",
   "metadata": {},
   "source": [
    "# Classification Pipeline"
   ]
  },
  {
   "cell_type": "code",
   "execution_count": 44,
   "metadata": {},
   "outputs": [],
   "source": [
    "%reload_ext autoreload\n",
    "%autoreload 3\n",
    "\n",
    "from pathlib import Path\n",
    "import scipy.stats as st\n",
    "\n",
    "import numpy as np\n",
    "import pandas as pd\n",
    "import seaborn as sns\n",
    "from sklearn.dummy import DummyClassifier\n",
    "from sklearn.feature_selection import SelectFromModel, VarianceThreshold\n",
    "from sklearn.model_selection import GroupShuffleSplit, StratifiedGroupKFold\n",
    "from sklearn.pipeline import Pipeline\n",
    "from sklearn.preprocessing import FunctionTransformer, StandardScaler\n",
    "from sklearn.svm import LinearSVC, SVC\n",
    "from src.sugnet.pipeline import extract_features\n",
    "\n",
    "from sklearn.decomposition import PCA, FastICA\n",
    "from sklearn.manifold import TSNE\n"
   ]
  },
  {
   "cell_type": "code",
   "execution_count": 51,
   "metadata": {},
   "outputs": [],
   "source": [
    "CV = GroupShuffleSplit(n_splits=200, test_size=0.2)\n",
    "CHANCE_CV = GroupShuffleSplit(n_splits=200, test_size=0.2)\n",
    "n_permutations = 100\n",
    "output_path = Path('data/classification_output')"
   ]
  },
  {
   "cell_type": "code",
   "execution_count": 3,
   "metadata": {},
   "outputs": [],
   "source": [
    "# 1. Data\n",
    "DATA = pd.read_csv('docs/plb_hyp_data_long.csv', index_col=0)\n",
    "\n",
    "# clean unwanted observations\n",
    "DATA = DATA.query('description == \"hypnosis\"')\n",
    "DATA = DATA.query('condition.str.contains(\"experience\")')\n",
    "\n",
    "\n",
    "DATA = DATA.query('bids_id <= 50')\n",
    "DATA['bids_id'] = DATA['bids_id'].apply(lambda x: str(x).rjust(2, '0'))\n",
    "\n",
    "#Xy\n",
    "X = DATA[['bids_id','procedure']].values\n",
    "y = DATA['hypnosis_depth'].apply(lambda x: 0 if x <= 5 else 1).values\n",
    "groups = DATA['bids_id']"
   ]
  },
  {
   "cell_type": "code",
   "execution_count": 69,
   "metadata": {},
   "outputs": [
    {
     "data": {
      "text/plain": [
       "(0.625,\n",
       " 0.11937336386313321,\n",
       " BootstrapResult(confidence_interval=ConfidenceInterval(low=0.6080000000000001, high=0.64125), standard_error=0.008445756998221986))"
      ]
     },
     "execution_count": 69,
     "metadata": {},
     "output_type": "execute_result"
    }
   ],
   "source": [
    "# 2. PIPELINE\n",
    "pipe = Pipeline([\n",
    "    ('extract', FunctionTransformer(extract_features, kw_args={'kind': 'power sensor',\n",
    "                                                               'frequency_band': 'beta'})),\n",
    "    ('zerovar', VarianceThreshold(threshold=0.0)),\n",
    "    ('scale', StandardScaler()),\n",
    "    # ('pca', PCA(n_components=30)),\n",
    "    # ('select', SelectFromModel(LinearSVC(penalty='l2', max_iter=100000, dual=False,))),\n",
    "    # ('clf', LinearSVC(penalty='l2', max_iter=100000, dual=False)),\n",
    "    ('select', SelectFromModel(SVC(kernel=\"linear\", max_iter=100000))),\n",
    "    ('clf', SVC(kernel=\"linear\", max_iter=100000, probability=True)),\n",
    "])\n",
    "# DEBUG: pipe.fit(X, y).score(X, y)\n",
    "\n",
    "from sklearn.model_selection import cross_val_score\n",
    "scores = cross_val_score(pipe, X, y, groups=groups, cv=CV, scoring='accuracy')\n",
    "scores.mean(), scores.std(), st.bootstrap(scores.reshape(1, -1), np.mean)\n"
   ]
  },
  {
   "cell_type": "code",
   "execution_count": 5,
   "metadata": {},
   "outputs": [
    {
     "name": "stdout",
     "output_type": "stream",
     "text": [
      "Fitting 100 folds for each of 5 candidates, totalling 500 fits\n"
     ]
    },
    {
     "data": {
      "text/plain": [
       "GridSearchCV(cv=GroupShuffleSplit(n_splits=100, random_state=None, test_size=0.2,\n",
       "         train_size=None),\n",
       "             estimator=Pipeline(steps=[('extract',\n",
       "                                        FunctionTransformer(func=<function extract_features at 0x11ee9e4c0>,\n",
       "                                                            kw_args={'kind': 'power '\n",
       "                                                                             'source'})),\n",
       "                                       ('zerovar', VarianceThreshold()),\n",
       "                                       ('scale', StandardScaler()),\n",
       "                                       ('select',\n",
       "                                        SelectFromModel(estimator=LinearSVC(dual=False,\n",
       "                                                                            max_iter=100000,\n",
       "                                                                            penalty='l1'))),\n",
       "                                       ('clf',\n",
       "                                        LinearSVC(dual=False, max_iter=100000,\n",
       "                                                  penalty='l1'))]),\n",
       "             param_grid={'extract__kw_args': [{'kind': 'correlation source'},\n",
       "                                              {'kind': 'correlation sensor'},\n",
       "                                              {'kind': 'power sensor'},\n",
       "                                              {'kind': 'power source'},\n",
       "                                              {'kind': 'plv source'}]},\n",
       "             scoring='accuracy', verbose=1)"
      ]
     },
     "execution_count": 5,
     "metadata": {},
     "output_type": "execute_result"
    }
   ],
   "source": [
    "grid_params = {\n",
    "    'extract__kw_args': [\n",
    "        dict(kind='correlation source'),\n",
    "        dict(kind='correlation sensor'),\n",
    "        dict(kind='power sensor'),\n",
    "        dict(kind='power source'),\n",
    "        dict(kind='plv source'),\n",
    "    ]\n",
    "}\n",
    "\n",
    "from sklearn.model_selection import GridSearchCV\n",
    "\n",
    "grid = GridSearchCV(pipe, grid_params, cv=CV, scoring='accuracy', verbose=1)\n",
    "grid.fit(X, y, groups=groups)\n"
   ]
  },
  {
   "cell_type": "code",
   "execution_count": 6,
   "metadata": {},
   "outputs": [],
   "source": [
    "# prepare grid results to plot\n",
    "grid_results = pd.DataFrame(grid.cv_results_)\n",
    "grid_results['label'] = grid_results['params'].apply(lambda p: list(p.values())[0]['kind'])\n",
    "\n",
    "split_cols = [c for c in grid_results.columns if 'split' in c]\n",
    "\n",
    "grid_results['test_score'] = grid_results[split_cols].apply(lambda x: list(x), axis=1)\n",
    "grid_results.drop(columns=split_cols, inplace=True)\n",
    "grid_results = grid_results.explode('test_score')\n",
    "\n",
    "\n",
    "def fit_chance(model_name=None):\n",
    "    \"\"\"Utility function to simulate emperical chance level.\"\"\"\n",
    "    \n",
    "    chance_model = DummyClassifier(strategy='most_frequent')\n",
    "    chance_scores = cross_val_score(chance_model, X, y, groups=groups, cv=CHANCE_CV, scoring='accuracy')\n",
    "    return chance_scores\n",
    "\n",
    "chance_scores = {}\n",
    "for model_name in grid_results['label'].unique():\n",
    "    model_chance_scores = fit_chance(model_name)\n",
    "    chance_scores[f'{model_name}'] = model_chance_scores.tolist()\n",
    "    \n",
    "chance_scores = pd.DataFrame(chance_scores).melt(var_name='label', value_name='test_score')"
   ]
  },
  {
   "cell_type": "code",
   "execution_count": 7,
   "metadata": {},
   "outputs": [
    {
     "data": {
      "image/png": "[encoded data removed]",
      "text/plain": [
       "<Figure size 720x360 with 1 Axes>"
      ]
     },
     "metadata": {
      "needs_background": "light"
     },
     "output_type": "display_data"
    }
   ],
   "source": [
    "# plot model performance against chance level\n",
    "import seaborn as sns\n",
    "\n",
    "import matplotlib.pyplot as plt\n",
    "\n",
    "_, ax = plt.subplots(1, 1, figsize=(10, 5))\n",
    "\n",
    "# plot chance\n",
    "sns.pointplot(data=chance_scores, ax=ax,\n",
    "              x='test_score', y='label',\n",
    "              color='gray',\n",
    "              capsize=0.03,\n",
    "              join=False,\n",
    "              orient='h', label='chance')\n",
    "\n",
    "# plot observed\n",
    "sns.pointplot(data=grid_results, x='test_score', y='label',\n",
    "              orient='h',\n",
    "              ax=ax, label='power source',\n",
    "              scale=3,\n",
    "              cmap='viridis',\n",
    "              capsize=0.03,\n",
    "              join=False,\n",
    "              color='blue',\n",
    "              markers='D')\n",
    "\n",
    "plt.show()"
   ]
  }
 ],
 "metadata": {
  "kernelspec": {
   "display_name": "Python 3.9.12 ('otka')",
   "language": "python",
   "name": "python3"
  },
  "language_info": {
   "codemirror_mode": {
    "name": "ipython",
    "version": 3
   },
   "file_extension": ".py",
   "mimetype": "text/x-python",
   "name": "python",
   "nbconvert_exporter": "python",
   "pygments_lexer": "ipython3",
   "version": "3.9.12"
  },
  "orig_nbformat": 4,
  "vscode": {
   "interpreter": {
    "hash": "a5940ee23a8ed7b2e3c21178d81a306e47a8b6a3c2b3d99c2f75b67b005e8c5b"
   }
  }
 },
 "nbformat": 4,
 "nbformat_minor": 2
}
