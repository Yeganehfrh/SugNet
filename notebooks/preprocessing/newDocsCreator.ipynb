{
 "cells": [
  {
   "cell_type": "code",
   "execution_count": 20,
   "metadata": {},
   "outputs": [],
   "source": [
    "##### creat two new documnets that maps between real hypnosis, bad channels and bids ids #####\n",
    "# imports\n",
    "import pandas as pd\n",
    "\n",
    "# open ids map and take bids ids out (to match the behavioral with bids ids)\n",
    "ids_map = pd.read_excel('docs/ids_map.xlsx', header=1, index_col='behavioral_id')\n",
    "bids_ids = ids_map.bids_id\n",
    "bids_ids = bids_ids.loc[:2132614].drop_duplicates()  # remove data with program bugs and software crash in ids map\n",
    "\n",
    "# open long formatted behavioral data \n",
    "data = pd.read_excel('docs/data_with_psds.xlsx', header=1, index_col='Unnamed: 0')\n",
    "\n",
    "# get the index of the condition where hypnosis introduced as real hypnosis\n",
    "truehypnosis_ind = [(i+1) - 4*int(i/4)\n",
    "                    for i in range(len(data))\n",
    "                    if (data.iloc[i]['description_type'] == 'hypnosis' and data.iloc[i]['trial_type'] == True)]\n",
    "truehypnosis_series = pd.Series(truehypnosis_ind,index=data.index.drop_duplicates(), name='true_hyp_ind')\n",
    "truehypnosis_series = truehypnosis_series.iloc[:50] # remove two participants with software crash\n",
    "\n",
    "# change index type and merge two series\n",
    "bids_ids.index = bids_ids.index.astype('int64')\n",
    "realHypInd = pd.concat([bids_ids,truehypnosis_series],axis=1)\n",
    "\n",
    "# set bids ids as index and get the experience trial index based on the subject id\n",
    "realHypInd.set_index('bids_id', inplace=True)\n",
    "\n",
    "# save\n",
    "realHypInd.to_csv('data/realHyp.csv')\n"
   ]
  }
 ],
 "metadata": {
  "interpreter": {
   "hash": "d539ee110e3d7f72862ae1acc5ad197a6467511f7b01c5e88c321aa8b0a828d7"
  },
  "kernelspec": {
   "display_name": "Python 3.9.1 ('base')",
   "language": "python",
   "name": "python3"
  },
  "language_info": {
   "codemirror_mode": {
    "name": "ipython",
    "version": 3
   },
   "file_extension": ".py",
   "mimetype": "text/x-python",
   "name": "python",
   "nbconvert_exporter": "python",
   "pygments_lexer": "ipython3",
   "version": "3.9.1"
  },
  "orig_nbformat": 4
 },
 "nbformat": 4,
 "nbformat_minor": 2
}
