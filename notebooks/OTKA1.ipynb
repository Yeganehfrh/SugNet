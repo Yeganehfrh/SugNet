{
 "cells": [
  {
   "cell_type": "markdown",
   "metadata": {},
   "source": [
    "# OTKA1 post analysis"
   ]
  },
  {
   "cell_type": "code",
   "execution_count": null,
   "metadata": {},
   "outputs": [],
   "source": [
    "import pandas as pd\n",
    "import numpy as np\n",
    "import mne"
   ]
  },
  {
   "cell_type": "code",
   "execution_count": null,
   "metadata": {},
   "outputs": [],
   "source": [
    "# The change in EEG power in the theta (4 to < 8 Hz), alpha (8 to < 13 Hz), and gamma (> 30 to 42 Hz) bands in the midline frontal (FPz, Fz) and midline occipital (POz, Oz, Iz) regions. \n",
    "data = pd.read_excel('data/behavioral_data/PLB_HYP_data_MASTER.xlsx')\n",
    "bands = ['theta', 'alpha', 'gamma']\n",
    "cols = [i for i in data.columns for j in bands if j in i and ('FZ' in i or 'OZ' in i) and 'induction' not in i]"
   ]
  },
  {
   "cell_type": "code",
   "execution_count": null,
   "metadata": {},
   "outputs": [],
   "source": [
    "import pickle\n",
    "\n",
    "with open('docs/1.psd_unaggragated_2nd_analysis.pkl', 'rb') as fp:\n",
    "    psd1 = pickle.load(fp)\n",
    "\n",
    "psd_1 = psd1['01-experience1'].mean(axis=0)\n",
    "psd_z = (psd_1[3] - np.mean(psd_1[3])) / np.std(psd_1[3])\n",
    "psd_zc = (psd_1[3] - baseline_1[3].mean()) / np.std(baseline_1[3])\n",
    "psd_subtracted = psd_1[3] - baseline_1[3].mean()\n",
    "\n",
    "plt.plot(freqs, psd_z, label='z-transfomed')\n",
    "plt.plot(freqs, psd_zc, label='z-transfomed with baseline')\n",
    "plt.plot(freqs, psd_subtracted * 10**12, label='subtracted baseline')\n",
    "plt.plot(freqs, psd_2, label='decible conversion')\n",
    "plt.legend()\n",
    "plt.grid()"
   ]
  }
 ],
 "metadata": {
  "language_info": {
   "name": "python"
  }
 },
 "nbformat": 4,
 "nbformat_minor": 2
}
