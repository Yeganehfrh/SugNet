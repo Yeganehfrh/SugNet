{
 "cells": [
  {
   "cell_type": "markdown",
   "id": "660af7c3",
   "metadata": {},
   "source": [
    "# Frequency-Accuracy Analysis\n",
    "\n",
    "This notebook analyze the relationship between the frequency of the signal and the predicted accuracy of the hypnosis depth. This analysis is done response to the following reviewer's comment:\n",
    "\n",
    "\"The fact that higher frequency components contribute more to the prediction of the hypnosis depth suggest a more general relationship between hypnosis and the EEG spectrum. It would have been informative to plot a frequency – accuracy plot where frequency is divided in narrow frequency intervals with a logarithmic granularity from 1 Hz up to 60 Hz on the y-axis and prediction accuracy represented on the x-axis. The deviation of that curve would be interesting to analyze relative to the linear function. Would we see steps with the conventional delta, theta, alpha, beta and gamma bands?\""
   ]
  },
  {
   "cell_type": "code",
   "execution_count": 1,
   "id": "c756e6aa",
   "metadata": {},
   "outputs": [
    {
     "name": "stdout",
     "output_type": "stream",
     "text": [
      "Reading /Users/yeganeh/Codes/SugNet/data/clean_data/sub-01_ses-01_task-baseline1_proc-clean_epo.fif ...\n",
      "    Found the data of interest:\n",
      "        t =       0.00 ...     999.00 ms\n",
      "        0 CTF compensation matrices available\n",
      "Not setting metadata\n",
      "291 matching events found\n",
      "No baseline correction applied\n",
      "0 projection items activated\n"
     ]
    }
   ],
   "source": [
    "# imports\n",
    "import numpy as np\n",
    "import pandas as pd\n",
    "import pickle as pkl\n",
    "import matplotlib.pyplot as plt\n",
    "\n",
    "import mne\n",
    "\n",
    "# constants\n",
    "epochs = mne.read_epochs('data/clean_data/sub-01_ses-01_task-baseline1_proc-clean_epo.fif')\n",
    "ch_names = epochs.ch_names.copy()  # make sure to copy the list because it is mutable in place\n",
    "[ch_names.remove(i) for i in ['M1', 'M2', 'EOG1', 'EOG2', 'ECG']]\n",
    "all_channels = epochs.ch_names\n",
    "del epochs\n",
    "\n",
    "# name of electrode groups\n",
    "ba_patches = {'LF': ['Fp1', 'F3', 'F7', 'AF3', 'F1', 'F5'],\n",
    " 'LC': ['C3', 'T7', 'FC1', 'FC3', 'FC5', 'C1', 'C5', 'FT7'],\n",
    " 'LP': ['P3', 'P7', 'CP1', 'CP3', 'CP5', 'TP7', 'P1', 'P5'],\n",
    " 'LO': ['O1', 'PO3'],\n",
    " 'RF': ['Fp2', 'F4', 'F8', 'AF4', 'F2', 'F6',],\n",
    " 'RC': ['C4', 'T8', 'FC2', 'FC4', 'FC6', 'C2', 'C6', 'FT8'],\n",
    " 'RP': ['P4', 'P8', 'CP2', 'CP4', 'CP6', 'TP8', 'P2', 'P6'],\n",
    " 'RO': ['O2', 'PO4'],\n",
    " 'FZ': ['Fpz', 'Fz'],\n",
    " 'CZ': ['Cz', 'FCz'],\n",
    " 'PZ': ['Pz', 'CPz'],\n",
    " 'OZ': ['POz', 'Oz', 'Iz'],\n",
    " 'all': ch_names\n",
    "}\n",
    "\n",
    "# index of electrode groups\n",
    "rois = {}\n",
    "for k,v in ba_patches.items():\n",
    "    temp = [all_channels.index(i) for i in v]\n",
    "    rois[k] = temp"
   ]
  },
  {
   "cell_type": "markdown",
   "id": "2a1a257a",
   "metadata": {},
   "source": [
    "## Feature extraction"
   ]
  },
  {
   "cell_type": "markdown",
   "id": "f2ea56f9",
   "metadata": {},
   "source": [
    "### Power Sensor"
   ]
  },
  {
   "cell_type": "code",
   "execution_count": 3,
   "id": "bb2180aa",
   "metadata": {},
   "outputs": [],
   "source": [
    "# open power sensor\n",
    "with open(f'docs/psds_3th_higher_frequency_resolution.pkl', 'rb') as f:\n",
    "    psds = pkl.load(f)\n",
    "\n",
    "def constant_q_bins(fmin=1.0, fmax=42.0, bins_per_oct=6):\n",
    "    centers = []\n",
    "    f = fmin\n",
    "    while f <= fmax:\n",
    "        f *= 2**(1/bins_per_oct)\n",
    "        centers.append(f)\n",
    "    centers = np.array(centers)\n",
    "    width = 2**(1/(2*bins_per_oct))\n",
    "    edges = np.column_stack([centers/width, centers*width])\n",
    "    edges[:, 0] = np.maximum(edges[:, 0], fmin)\n",
    "    edges[:, 1] = np.minimum(edges[:, 1], fmax)\n",
    "    return centers, edges  # (n_bins,), (n_bins,2)\n",
    "\n",
    "freqs = psds.pop('freqs')"
   ]
  },
  {
   "cell_type": "code",
   "execution_count": null,
   "id": "23826ec3",
   "metadata": {},
   "outputs": [],
   "source": [
    "roi_features_all = {}\n",
    "DB = False\n",
    "RELATIVE = False\n",
    "for key in psds.keys():\n",
    "\n",
    "    # Interpolate PSD onto dense frequency grid\n",
    "    psd = psds[key]  # (n_channels, n_freqs)\n",
    "    freq_dense = np.arange(1, 42, 0.02)\n",
    "    psd_dense = np.array([np.interp(freq_dense, freqs, psd[i]) for i in range(psd.shape[0])])\n",
    "\n",
    "    centers, edges = constant_q_bins(1.0, 42.0, bins_per_oct=6)\n",
    "\n",
    "    # 1) Bin power per channel (physical approach)\n",
    "    bin_vals = []\n",
    "    for f1, f2 in edges:\n",
    "        m = (freq_dense >= f1) & (freq_dense <= f2)\n",
    "        # integrate linear PSD then divide by bandwidth\n",
    "        bw = (f2 - f1)\n",
    "        # trapezoidal integral per channel\n",
    "        p_lin = np.trapezoid(psd_dense[:, m], freq_dense[m], axis=1) / bw\n",
    "        if DB:\n",
    "            p_db  = 10*np.log10(p_lin + 1e-20)  # (n_channels,)\n",
    "        bin_vals.append(p_lin)\n",
    "    bin_vals = np.stack(bin_vals, axis=1)  # (n_channels, n_bins)\n",
    "\n",
    "    # 2) ROI average in dB\n",
    "    roi_features = []\n",
    "    for roi_name, ch_idx in rois.items():\n",
    "        roi_features.append(np.nanmean(bin_vals[ch_idx, :], axis=0))  # (n_bins,)\n",
    "    roi_features = np.stack(roi_features, axis=1)  # (n_bins, n_rois)\n",
    "\n",
    "    # # 3) convert to relative power across bins (per ROI)\n",
    "    if RELATIVE:\n",
    "        roi_features = (roi_features - roi_features.mean(axis=0, keepdims=True)) / roi_features.std(axis=0, keepdims=True)\n",
    "\n",
    "    roi_features_all[key] = roi_features"
   ]
  },
  {
   "cell_type": "markdown",
   "id": "2fb5f807",
   "metadata": {},
   "source": [
    "## Classification"
   ]
  },
  {
   "cell_type": "code",
   "execution_count": null,
   "id": "b8f0e329",
   "metadata": {},
   "outputs": [],
   "source": [
    "import warnings\n",
    "warnings.filterwarnings(\"ignore\", message=\"pkg_resources is deprecated as an API\") # Supress dependancies warning till new sklearn versions is released\n",
    "\n",
    "from sklearn.model_selection import GroupShuffleSplit, GridSearchCV, cross_val_score\n",
    "from sklearn.pipeline import Pipeline\n",
    "from sklearn.preprocessing import StandardScaler\n",
    "from sklearn.svm import SVC"
   ]
  },
  {
   "cell_type": "code",
   "execution_count": 32,
   "id": "e3622718",
   "metadata": {},
   "outputs": [
    {
     "name": "stdout",
     "output_type": "stream",
     "text": [
      ">>> 0\n",
      "Fitting 50 folds for each of 7 candidates, totalling 350 fits\n",
      ">>> 1\n",
      "Fitting 50 folds for each of 7 candidates, totalling 350 fits\n",
      ">>> 2\n",
      "Fitting 50 folds for each of 7 candidates, totalling 350 fits\n",
      ">>> 3\n",
      "Fitting 50 folds for each of 7 candidates, totalling 350 fits\n",
      ">>> 4\n",
      "Fitting 50 folds for each of 7 candidates, totalling 350 fits\n",
      ">>> 5\n",
      "Fitting 50 folds for each of 7 candidates, totalling 350 fits\n",
      ">>> 6\n",
      "Fitting 50 folds for each of 7 candidates, totalling 350 fits\n",
      ">>> 7\n",
      "Fitting 50 folds for each of 7 candidates, totalling 350 fits\n",
      ">>> 8\n",
      "Fitting 50 folds for each of 7 candidates, totalling 350 fits\n",
      ">>> 9\n",
      "Fitting 50 folds for each of 7 candidates, totalling 350 fits\n",
      ">>> 10\n",
      "Fitting 50 folds for each of 7 candidates, totalling 350 fits\n",
      ">>> 11\n",
      "Fitting 50 folds for each of 7 candidates, totalling 350 fits\n",
      ">>> 12\n",
      "Fitting 50 folds for each of 7 candidates, totalling 350 fits\n",
      ">>> 13\n",
      "Fitting 50 folds for each of 7 candidates, totalling 350 fits\n",
      ">>> 14\n",
      "Fitting 50 folds for each of 7 candidates, totalling 350 fits\n",
      ">>> 15\n",
      "Fitting 50 folds for each of 7 candidates, totalling 350 fits\n",
      ">>> 16\n",
      "Fitting 50 folds for each of 7 candidates, totalling 350 fits\n",
      ">>> 17\n",
      "Fitting 50 folds for each of 7 candidates, totalling 350 fits\n",
      ">>> 18\n",
      "Fitting 50 folds for each of 7 candidates, totalling 350 fits\n",
      ">>> 19\n",
      "Fitting 50 folds for each of 7 candidates, totalling 350 fits\n",
      ">>> 20\n",
      "Fitting 50 folds for each of 7 candidates, totalling 350 fits\n",
      ">>> 21\n",
      "Fitting 50 folds for each of 7 candidates, totalling 350 fits\n",
      ">>> 22\n",
      "Fitting 50 folds for each of 7 candidates, totalling 350 fits\n",
      ">>> 23\n",
      "Fitting 50 folds for each of 7 candidates, totalling 350 fits\n",
      ">>> 24\n",
      "Fitting 50 folds for each of 7 candidates, totalling 350 fits\n",
      ">>> 25\n",
      "Fitting 50 folds for each of 7 candidates, totalling 350 fits\n",
      ">>> 26\n",
      "Fitting 50 folds for each of 7 candidates, totalling 350 fits\n",
      ">>> 27\n",
      "Fitting 50 folds for each of 7 candidates, totalling 350 fits\n",
      ">>> 28\n",
      "Fitting 50 folds for each of 7 candidates, totalling 350 fits\n",
      ">>> 29\n",
      "Fitting 50 folds for each of 7 candidates, totalling 350 fits\n",
      ">>> 30\n",
      "Fitting 50 folds for each of 7 candidates, totalling 350 fits\n",
      ">>> 31\n",
      "Fitting 50 folds for each of 7 candidates, totalling 350 fits\n",
      ">>> 32\n",
      "Fitting 50 folds for each of 7 candidates, totalling 350 fits\n"
     ]
    }
   ],
   "source": [
    "max_acc = {}\n",
    "for freq_bin in range(33):\n",
    "    print(f'>>> {freq_bin}')\n",
    "    df = pd.DataFrame([])\n",
    "    for key in roi_features_all.keys():\n",
    "        df = pd.concat([df, pd.DataFrame(roi_features_all[key][freq_bin], columns=[key], index=list(rois.keys())).T], axis=0)\n",
    "\n",
    "    df.reset_index(inplace=True)\n",
    "    df[['bids_id', 'condition']] = df['index'].apply(lambda x: x.split('_')).apply(pd.Series)\n",
    "    df.drop(columns='index', inplace=True)\n",
    "    df['session'] = df['condition'].apply(lambda x: x[-1])\n",
    "\n",
    "    # open session data and merge with power values\n",
    "    session_data = pd.read_csv('data/behavioral_data/archived/behavioral_data.csv')\n",
    "    df = df.astype({'session': 'int64'})\n",
    "    df = pd.merge(session_data, df, how='right', on=['session', 'bids_id'], right_index=False)\n",
    "    df.insert(1, 'condition', df.pop('condition'))\n",
    "\n",
    "    # DATA\n",
    "    df_cls = df.query('description == \"hypnosis\"').reset_index(drop=True)\n",
    "    X = df_cls[list(rois.keys())].values\n",
    "    y = df_cls['hypnosis_depth'].apply(lambda x: 0 if x<=5 else 1).values\n",
    "    groups = df_cls['bids_id'].values\n",
    "\n",
    "    # MODEL\n",
    "    pipe = Pipeline(steps=[\n",
    "        ('scale', StandardScaler()),\n",
    "        ('cls', SVC(max_iter=10000000, kernel='linear', class_weight='balanced'))\n",
    "        ])\n",
    "\n",
    "    CV = GroupShuffleSplit(50, test_size=0.2)\n",
    "\n",
    "    grid_params = [{\n",
    "        'cls__C': [0.1, 0.5, 1, 5, 10, 50, 100],\n",
    "    }]\n",
    "\n",
    "    grid = GridSearchCV(pipe, grid_params, cv=CV, scoring='accuracy', verbose=1, n_jobs=-1)\n",
    "    grid.fit(X, y, groups=groups)\n",
    "\n",
    "    grid_results = pd.DataFrame(grid.cv_results_)\n",
    "\n",
    "    best_C_idx = grid_results['mean_test_score'].idxmax()\n",
    "    acc_cols = [c for c in grid_results if 'split' in c]\n",
    "    acc_cols.append('mean_test_score')\n",
    "\n",
    "    accuracies = grid_results.loc[best_C_idx, acc_cols]\n",
    "    max_acc[freq_bin] = accuracies\n",
    "\n",
    "acc_df = pd.DataFrame.from_dict(max_acc, orient='index')\n",
    "acc_mean = acc_df['mean_test_score']\n",
    "\n",
    "# find min and max split accuracies in each row\n",
    "min_acc = acc_df.filter(like='split').min(axis=1)\n",
    "max_acc = acc_df.filter(like='split').max(axis=1)\n",
    "\n",
    "acc_ci = pd.concat([min_acc, max_acc], axis=1).rename(columns={0: 'min',\n",
    "                                                               1: 'max'})"
   ]
  },
  {
   "cell_type": "code",
   "execution_count": null,
   "id": "20f1b556",
   "metadata": {},
   "outputs": [
    {
     "data": {
      "text/plain": [
       "(<Figure size 600x600 with 1 Axes>,\n",
       " <Axes: title={'center': 'Power · Sensor'}, xlabel='Balanced accuracy', ylabel='Frequency (Hz, log scale)'>)"
      ]
     },
     "execution_count": 33,
     "metadata": {},
     "output_type": "execute_result"
    },
    {
     "data": {
      "image/png": "[encoded data removed]",
      "text/plain": [
       "<Figure size 600x600 with 1 Axes>"
      ]
     },
     "metadata": {},
     "output_type": "display_data"
    }
   ],
   "source": [
    "def plot_freq_accuracy(freq_centers, acc_mean, acc_ci=None, title=\"Power · Sensor\"):\n",
    "    \"\"\"\n",
    "    freq_centers: (n_bins,) in Hz\n",
    "    acc_mean:     (n_bins,) accuracy or balanced accuracy\n",
    "    acc_ci:       (n_bins,2) lower/upper CI (optional)\n",
    "    \"\"\"\n",
    "    f = np.array(freq_centers, float)\n",
    "    a = np.array(acc_mean, float)\n",
    "\n",
    "    fig, ax = plt.subplots(figsize=(6, 6))\n",
    "    ax.set_yscale('log')\n",
    "\n",
    "    # canonical bands (adjust to your limits)\n",
    "    bands = [\n",
    "        (\"δ\", 1, 4), (\"θ\", 4, 8), (\"α\", 8, 13),\n",
    "        (\"β\", 13, 30), (\"γ\", 30, 42)\n",
    "    ]\n",
    "    for label, lo, hi in bands:\n",
    "        ax.axhspan(lo, hi, alpha=0.06)  # gentle shading\n",
    "        ax.text(0.505, (lo*hi)**0.5, label, va='center', ha='left', transform=ax.get_yaxis_transform())\n",
    "\n",
    "    # points + horizontal error bars\n",
    "    if acc_ci is not None:\n",
    "        lo = acc_ci.loc[:, 'min']\n",
    "        hi = acc_ci.loc[:, 'max']\n",
    "        xerr = np.vstack([a - lo, hi - a])\n",
    "        ax.errorbar(a, f, xerr=xerr, fmt='o', ms=4, capsize=2, alpha=0.9, label='Bin accuracy')\n",
    "    else:\n",
    "        ax.plot(a, f, 'o', ms=4, alpha=0.9, label='Bin accuracy')\n",
    "\n",
    "    # chance & optional null band\n",
    "    ax.axvline(0.5, ls='--', lw=1, alpha=0.5, color='k')   # chance for balanced acc\n",
    "    # ax.axvspan(0.48, 0.52, color='k', alpha=0.05)        # null band from shuffles (if you have it)\n",
    "\n",
    "    # linear trend vs log-frequency\n",
    "    X = np.vstack([np.ones_like(f), np.log(f)]).T\n",
    "    beta = np.linalg.lstsq(X, a, rcond=None)[0]\n",
    "    a_hat = X @ beta\n",
    "    ax.plot(a_hat, f, ls='--', lw=1.5, alpha=0.8, label='Linear fit vs log f')\n",
    "\n",
    "    ax.set_xlabel('Balanced accuracy')\n",
    "    ax.set_ylabel('Frequency (Hz, log scale)')\n",
    "    ax.set_title(title)\n",
    "    ax.set_xlim(max(0.45, a.min()-0.03), min(1.0, a.max()+0.03))\n",
    "    ax.legend(loc='lower right', frameon=False)\n",
    "    plt.tight_layout()\n",
    "    return fig, ax\n",
    "\n",
    "plot_freq_accuracy(centers, acc_mean)\n"
   ]
  },
  {
   "cell_type": "code",
   "execution_count": null,
   "id": "5fe020e4",
   "metadata": {},
   "outputs": [],
   "source": [
    "## why would we observe such a trend when not using non decibel transformed data? does it have to do with the 1/f??"
   ]
  },
  {
   "cell_type": "markdown",
   "id": "d4017a79",
   "metadata": {},
   "source": [
    "# Gamma Coherency Analysis\n",
    "\n",
    "This analysis is done in response to the following comment:\n",
    "\n",
    "**I was missing a focus on analyzing the widespread gamma coherence across distant brain regions. The coherence of gamma is expected to decrease between regions as consciousness disintegrates. Under altered states of consciousness, such as observed in anesthesia ad or other drug induced states, gamma breaks down to local islands of coherent oscillation nodes over the cerebral cortex while distant regions decohere. Was that network dynamics analyzed but did not yield any difference in network coherence or this was disregarded for other reasons?**"
   ]
  },
  {
   "cell_type": "code",
   "execution_count": 3,
   "id": "c14179c7",
   "metadata": {},
   "outputs": [
    {
     "name": "stdout",
     "output_type": "stream",
     "text": [
      "Reading /Users/yeganeh/Codes/SugNet/data/clean_data/sub-01_ses-01_task-baseline1_proc-clean_epo.fif ...\n",
      "    Found the data of interest:\n",
      "        t =       0.00 ...     999.00 ms\n",
      "        0 CTF compensation matrices available\n",
      "Not setting metadata\n",
      "291 matching events found\n",
      "No baseline correction applied\n",
      "0 projection items activated\n"
     ]
    }
   ],
   "source": [
    "epochs = mne.read_epochs('data/clean_data/sub-01_ses-01_task-baseline1_proc-clean_epo.fif')\n",
    "conn = pd.read_csv('data/classification_datasets/wpli_sensor.csv', index_col=0)\n",
    "\n",
    "gamma_cols = [c for c in conn.columns if 'gamma' in c]\n",
    "FCz_cols = [c for c in conn.columns if 'FCz' in c]\n",
    "gamma_cols = [c for c in gamma_cols if c not in FCz_cols] # remove those FCz columns because of the missing channel position\n",
    "\n",
    "conn = conn.query('condition.str.contains(\"experience\")')\n",
    "conn = conn.query('description == \"hypnosis\"')\n",
    "conn['depth_class'] = conn['hypnosis_depth'].apply(lambda x: 0 if x<= 5 else 1)\n",
    "\n",
    "# only include gamma columns\n",
    "conn_dp = conn.query('depth_class == 1')[gamma_cols].values\n",
    "conn_sh = conn.query('depth_class == 0')[gamma_cols].values"
   ]
  },
  {
   "cell_type": "code",
   "execution_count": 13,
   "id": "a0fd27b2",
   "metadata": {},
   "outputs": [],
   "source": [
    "ch_names = epochs.ch_names.copy()  # make sure to copy the list because it is mutable in place\n",
    "[ch_names.remove(i) for i in ['M1', 'M2', 'EOG1', 'EOG2', 'ECG', 'FCz']] # remove FCz that's with no pos coordiantes \n",
    "ch_idx = [all_channels.index(ch) for ch in ch_names]  # EEG channel indices (other channels removed)\n",
    "pos = np.array([epochs.info['chs'][i]['loc'][:3] for i in ch_idx])\n",
    "D = np.linalg.norm(pos[:, None,:]-pos[None,:,:], axis=2)\n",
    "triu = np.triu_indices_from(D, k=1)\n",
    "d = D[triu]\n",
    "\n",
    "q30, q70 = np.quantile(d, [0.3, 0.7])\n",
    "short_idx = d <= q30; long_idx = d >= q70\n",
    "\n",
    "metrics = {\n",
    "    'short_mean_shallow': conn_sh[:, short_idx].mean(),\n",
    "    'short_mean_deep':    conn_dp[:, short_idx].mean(),\n",
    "    'long_mean_shallow':  conn_sh[:, long_idx].mean(),\n",
    "    'long_mean_deep':     conn_dp[:, long_idx].mean(),\n",
    "    # 'slope_shallow': np.polyfit(d, conn_sh, 1)[0],\n",
    "    # 'slope_deep':    np.polyfit(d, conn_dp, 1)[0],\n",
    "}"
   ]
  },
  {
   "cell_type": "markdown",
   "id": "b5b10027",
   "metadata": {},
   "source": [
    "### ROI MNI Centroids"
   ]
  },
  {
   "cell_type": "code",
   "execution_count": null,
   "id": "cb662897",
   "metadata": {},
   "outputs": [],
   "source": [
    "import re\n",
    "yeo7 = {\n",
    "    'N1': 'Visual',\n",
    "    'N2': 'Somatomotor',\n",
    "    'N3': 'DorsalAttention',\n",
    "    'N4': 'VentralAttention',\n",
    "    'N5': 'Limbic',\n",
    "    'N6': 'Frontoparietal',\n",
    "    'N7': 'Default',\n",
    "    'mwall': 'Medial_Wall',\n",
    "}"
   ]
  },
  {
   "cell_type": "code",
   "execution_count": null,
   "id": "90378dfc",
   "metadata": {},
   "outputs": [
    {
     "name": "stdout",
     "output_type": "stream",
     "text": [
      "Reading labels from parcellation...\n",
      "   read 8 labels from /Users/yeganeh/Codes/SugNet/data/fsaverage/label/lh.Yeo2011_7Networks_N1000.annot\n",
      "   read 8 labels from /Users/yeganeh/Codes/SugNet/data/fsaverage/label/rh.Yeo2011_7Networks_N1000.annot\n"
     ]
    }
   ],
   "source": [
    "subject = 'fsaverage'\n",
    "subjects_dir = 'data/'\n",
    "atlas_labels = mne.read_labels_from_annot(subject,\n",
    "                                          'Yeo2011_7Networks_N1000',\n",
    "                                          subjects_dir= subjects_dir)\n",
    "\n",
    "# src = mne.setup_source_space(subject, spacing='ico5', subjects_dir=subjects_dir, add_dist=False, verbose=False)\n",
    "roi_xyz = []\n",
    "roi_names = []\n",
    "roi_hemi = []\n",
    "for lab in atlas_labels:\n",
    "    # returns a vertex id on that hemi\n",
    "    vert = int(lab.center_of_mass(subject=subject, subjects_dir=subjects_dir))\n",
    "    # convert vertex to MNI xyz\n",
    "    mni = mne.vertex_to_mni(vertices=[vert], hemis=[0 if lab.hemi=='lh' else 1],\n",
    "                            subject=subject, subjects_dir=subjects_dir)[0]\n",
    "    m = re.search('7Networks_([A-Za-z0-9]+)-(.+)', lab.name)\n",
    "    roi_xyz.append(mni)\n",
    "    roi_names.append(yeo7[f'N{m.group(1)}'] + f'_{m.group(2)}' if m else 'Medial_Wall')\n",
    "    roi_hemi.append('L' if lab.hemi=='lh' else 'R')\n",
    "roi_xyz = np.array(roi_xyz)  # shape (16, 3)\n",
    "\n",
    "# not the best practice but here manually adding the hemispheres' info to the last two names for congruency with FC labels\n",
    "roi_names[-2] = roi_names[-2] + '_lh'\n",
    "roi_names[-1] = roi_names[-1] + '_rh'"
   ]
  }
 ],
 "metadata": {
  "kernelspec": {
   "display_name": "default",
   "language": "python",
   "name": "python3"
  },
  "language_info": {
   "codemirror_mode": {
    "name": "ipython",
    "version": 3
   },
   "file_extension": ".py",
   "mimetype": "text/x-python",
   "name": "python",
   "nbconvert_exporter": "python",
   "pygments_lexer": "ipython3",
   "version": "3.13.5"
  }
 },
 "nbformat": 4,
 "nbformat_minor": 5
}
