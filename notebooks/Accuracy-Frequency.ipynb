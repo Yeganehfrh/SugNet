{
 "cells": [
  {
   "cell_type": "markdown",
   "id": "660af7c3",
   "metadata": {},
   "source": [
    "# Frequency-Accuracy Analysis\n",
    "\n",
    "This notebook analyze the relationship between the frequency of the signal and the predicted accuracy of the hypnosis depth. This analysis is done response to the following reviewer's comment:\n",
    "\n",
    "\"The fact that higher frequency components contribute more to the prediction of the hypnosis depth suggest a more general relationship between hypnosis and the EEG spectrum. It would have been informative to plot a frequency – accuracy plot where frequency is divided in narrow frequency intervals with a logarithmic granularity from 1 Hz up to 60 Hz on the y-axis and prediction accuracy represented on the x-axis. The deviation of that curve would be interesting to analyze relative to the linear function. Would we see steps with the conventional delta, theta, alpha, beta and gamma bands?\""
   ]
  },
  {
   "cell_type": "code",
   "execution_count": 1,
   "id": "c756e6aa",
   "metadata": {},
   "outputs": [
    {
     "name": "stdout",
     "output_type": "stream",
     "text": [
      "Reading /Users/yeganeh/Codes/SugNet/data/clean_data/sub-01_ses-01_task-baseline1_proc-clean_epo.fif ...\n",
      "    Found the data of interest:\n",
      "        t =       0.00 ...     999.00 ms\n",
      "        0 CTF compensation matrices available\n",
      "Not setting metadata\n",
      "291 matching events found\n",
      "No baseline correction applied\n",
      "0 projection items activated\n"
     ]
    }
   ],
   "source": [
    "# imports\n",
    "import numpy as np\n",
    "import pandas as pd\n",
    "import pickle as pkl\n",
    "import mne\n",
    "\n",
    "# constants\n",
    "epochs = mne.read_epochs('data/clean_data/sub-01_ses-01_task-baseline1_proc-clean_epo.fif')\n",
    "ch_names = epochs.ch_names.copy()  # make sure to copy the list because it is mutable in place\n",
    "[ch_names.remove(i) for i in ['M1', 'M2', 'EOG1', 'EOG2', 'ECG']]\n",
    "all_channels = epochs.ch_names\n",
    "del epochs\n",
    "\n",
    "# name of electrode groups\n",
    "ba_patches = {'LF': ['Fp1', 'F3', 'F7', 'AF3', 'F1', 'F5'],\n",
    " 'LC': ['C3', 'T7', 'FC1', 'FC3', 'FC5', 'C1', 'C5', 'FT7'],\n",
    " 'LP': ['P3', 'P7', 'CP1', 'CP3', 'CP5', 'TP7', 'P1', 'P5'],\n",
    " 'LO': ['O1', 'PO3'],\n",
    " 'RF': ['Fp2', 'F4', 'F8', 'AF4', 'F2', 'F6',],\n",
    " 'RC': ['C4', 'T8', 'FC2', 'FC4', 'FC6', 'C2', 'C6', 'FT8'],\n",
    " 'RP': ['P4', 'P8', 'CP2', 'CP4', 'CP6', 'TP8', 'P2', 'P6'],\n",
    " 'RO': ['O2', 'PO4'],\n",
    " 'FZ': ['Fpz', 'Fz'],\n",
    " 'CZ': ['Cz', 'FCz'],\n",
    " 'PZ': ['Pz', 'CPz'],\n",
    " 'OZ': ['POz', 'Oz', 'Iz'],\n",
    "#  'all': ch_names\n",
    "}\n",
    "\n",
    "# index of electrode groups\n",
    "rois = {}\n",
    "for k,v in ba_patches.items():\n",
    "    temp = [all_channels.index(i) for i in v]\n",
    "    rois[k] = temp"
   ]
  },
  {
   "cell_type": "markdown",
   "id": "2a1a257a",
   "metadata": {},
   "source": [
    "## Feature extraction"
   ]
  },
  {
   "cell_type": "markdown",
   "id": "f2ea56f9",
   "metadata": {},
   "source": [
    "### Power Sensor"
   ]
  },
  {
   "cell_type": "code",
   "execution_count": 2,
   "id": "bb2180aa",
   "metadata": {},
   "outputs": [],
   "source": [
    "# open power sensor\n",
    "with open(f'docs/psds_3th_higher_frequency_resolution.pkl', 'rb') as f:\n",
    "    psds = pkl.load(f)\n",
    "\n",
    "\n",
    "def constant_q_bins(fmin=1.0, fmax=42.0, bins_per_oct=6):\n",
    "    centers = []\n",
    "    f = fmin\n",
    "    while f <= fmax:\n",
    "        f *= 2**(1/bins_per_oct)\n",
    "        centers.append(f)\n",
    "    centers = np.array(centers)\n",
    "    width = 2**(1/(2*bins_per_oct))\n",
    "    edges = np.column_stack([centers/width, centers*width])\n",
    "    edges[:, 0] = np.maximum(edges[:, 0], fmin)\n",
    "    edges[:, 1] = np.minimum(edges[:, 1], fmax)\n",
    "    return centers, edges  # (n_bins,), (n_bins,2)\n",
    "\n",
    "\n",
    "freqs = psds.pop('freqs')"
   ]
  },
  {
   "cell_type": "code",
   "execution_count": 3,
   "id": "23826ec3",
   "metadata": {},
   "outputs": [],
   "source": [
    "roi_features_all = {}\n",
    "for key in psds.keys():\n",
    "\n",
    "    # Interpolate PSD onto dense frequency grid\n",
    "    psd = psds[key]  # (n_channels, n_freqs)\n",
    "    freq_dense = np.arange(1, 42, 0.02)\n",
    "    psd_dense = np.array([np.interp(freq_dense, freqs, psd[i]) for i in range(psd.shape[0])])\n",
    "\n",
    "    centers, edges = constant_q_bins(1.0, 42.0, bins_per_oct=6)\n",
    "\n",
    "    # 1) Bin power per channel (physical approach)\n",
    "    bin_vals = []\n",
    "    for f1, f2 in edges:\n",
    "        m = (freq_dense >= f1) & (freq_dense <= f2)\n",
    "        # integrate linear PSD then divide by bandwidth\n",
    "        bw = (f2 - f1)\n",
    "        # trapezoidal integral per channel\n",
    "        p_lin = np.trapezoid(psd_dense[:, m], freq_dense[m], axis=1) / bw\n",
    "        p_db  = 10*np.log10(p_lin + 1e-20)  # (n_channels,)\n",
    "        bin_vals.append(p_lin)\n",
    "    bin_vals = np.stack(bin_vals, axis=1)  # (n_channels, n_bins)\n",
    "\n",
    "    # 2) ROI average in dB\n",
    "    roi_features = []\n",
    "    for roi_name, ch_idx in rois.items():\n",
    "        roi_features.append(np.nanmean(bin_vals[ch_idx, :], axis=0))  # (n_bins,)\n",
    "    roi_features = np.stack(roi_features, axis=1)  # (n_bins, n_rois)\n",
    "\n",
    "    # 3) convert to relative power across bins (per ROI)\n",
    "    roi_features = (roi_features - roi_features.mean(axis=0, keepdims=True)) / roi_features.std(axis=0, keepdims=True)\n",
    "\n",
    "    roi_features_all[key] = roi_features"
   ]
  },
  {
   "cell_type": "code",
   "execution_count": null,
   "id": "170e1b6d",
   "metadata": {},
   "outputs": [],
   "source": [
    "df = pd.DataFrame([])\n",
    "for key in roi_features_all.keys():\n",
    "    df = pd.concat([df, pd.DataFrame(roi_features_all[key][0], columns=[key], index=list(rois.keys())).T], axis=0)\n",
    "\n",
    "df.reset_index(inplace=True)\n",
    "df[['bids_id', 'condition']] = df['index'].apply(lambda x: x.split('_')).apply(pd.Series)\n",
    "df.drop(columns='index', inplace=True)\n",
    "df['session'] = df['condition'].apply(lambda x: x[-1])\n",
    "\n",
    "# open session data and merge with power values\n",
    "session_data = pd.read_csv('data/behavioral_data/archived/behavioral_data.csv')\n",
    "df = df.astype({'session': 'int64'})\n",
    "df = pd.merge(session_data, df, how='right', on=['session', 'bids_id'], right_index=False)\n",
    "df.insert(1, 'condition', df.pop('condition'))"
   ]
  },
  {
   "cell_type": "markdown",
   "id": "2fb5f807",
   "metadata": {},
   "source": [
    "## Classification"
   ]
  },
  {
   "cell_type": "code",
   "execution_count": null,
   "id": "77e0e0ae",
   "metadata": {},
   "outputs": [],
   "source": []
  }
 ],
 "metadata": {
  "kernelspec": {
   "display_name": "default",
   "language": "python",
   "name": "python3"
  },
  "language_info": {
   "codemirror_mode": {
    "name": "ipython",
    "version": 3
   },
   "file_extension": ".py",
   "mimetype": "text/x-python",
   "name": "python",
   "nbconvert_exporter": "python",
   "pygments_lexer": "ipython3",
   "version": "3.13.5"
  }
 },
 "nbformat": 4,
 "nbformat_minor": 5
}
