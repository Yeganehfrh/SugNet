{
 "cells": [
  {
   "cell_type": "markdown",
   "metadata": {},
   "source": [
    "# Time-frequency analysis\n",
    "This notebook re-analyzes and extracts power from the \n",
    "resting state???\n",
    "\n",
    "- which method to use: Hilbert-filter, complex morlet wavelet convolution, Short-time FFT (Welch), Multitapers\n",
    "- If we use Welch method what is the size of the fft window? should we have zero paddings? should we have overlap? what to do for the edge artefacts?\n",
    "- Normalization: which method to use? Z transform, percentage change or decibels? which part of the recording should be used as the baseline? which baseline window is the best?"
   ]
  },
  {
   "cell_type": "code",
   "execution_count": 39,
   "metadata": {},
   "outputs": [
    {
     "name": "stdout",
     "output_type": "stream",
     "text": [
      "Opening raw data file /Users/yeganeh/Codes/otka-preprocessing/data/Main-study/derivatives/mne-bids-pipeline/sub-03/ses-01/eeg/sub-03_ses-01_task-induction1_proc-filt_raw.fif...\n",
      "Isotrak not found\n",
      "    Range : 0 ... 363259 =      0.000 ...   363.259 secs\n",
      "Ready.\n"
     ]
    }
   ],
   "source": [
    "# setup\n",
    "import mne\n",
    "import numpy as np\n",
    "import pandas as pd\n",
    "import os.path as op\n",
    "import matplotlib.pyplot as plt\n",
    "import mne_bids\n",
    "from autoreject import get_rejection_threshold\n",
    "from preprocessing import _epochs_to_continuous, _make_montage\n",
    "from xarray_creator import _cut_noisy\n",
    "\n",
    "# open preprocessed data\n",
    "n_sub = '03'\n",
    "task = 'induction1'\n",
    "con_dict = {}\n",
    "data_dir = '/Users/yeganeh/Codes/otka-preprocessing/data/Main-study/derivatives/mne-bids-pipeline'\n",
    "epoch_name = f'sub-{n_sub}_ses-01_task-{task}_proc-clean_epo.fif'\n",
    "raw_name = f'sub-{n_sub}_ses-01_task-{task}_proc-filt_raw.fif'\n",
    "\n",
    "dir = op.join(data_dir, f'sub-{n_sub}/ses-01/eeg/{raw_name}')\n",
    "\n",
    "# open clean epochs\n",
    "# epoch = mne.read_epochs(dir)\n",
    "raw = mne.io.read_raw(dir)\n",
    "\n"
   ]
  },
  {
   "cell_type": "code",
   "execution_count": 34,
   "metadata": {},
   "outputs": [
    {
     "name": "stdout",
     "output_type": "stream",
     "text": [
      "Effective window size : 1.051 (s)\n"
     ]
    }
   ],
   "source": [
    "from mne.time_frequency import psd_welch\n",
    "psd = psd_welch(raw, n_fft=1051, n_per_seg=1051, fmax=40)"
   ]
  },
  {
   "cell_type": "markdown",
   "metadata": {},
   "source": [
    "## The impact of different parameters on welch method\n",
    "Below image shows is that if we use epoched data and then average over the epoch dimention is the same as we concatenate epochs and then calculate the psd using Welch method."
   ]
  },
  {
   "cell_type": "code",
   "execution_count": null,
   "metadata": {},
   "outputs": [],
   "source": [
    "bids_path = mne_bids.BIDSPath(subject='01', session='01', task='baseline1', root='data/BIDS_data')\n",
    "raw = mne_bids.read_raw_bids(bids_path, verbose=False)\n",
    "raw = _cut_noisy(raw, 'baseline1', 'hun')\n",
    "raw.load_data().filter(0.5, 42, h_trans_bandwidth='auto')\n",
    "pos = _make_montage()\n",
    "raw.set_montage(pos)\n",
    "\n",
    "epochs = mne.make_fixed_length_epochs(raw, duration=1)\n",
    "reject = get_rejection_threshold(epochs)\n",
    "epochs.drop_bad(reject=reject)\n",
    "data = _epochs_to_continuous(epochs)\n",
    "info = mne.create_info(ch_names=raw.ch_names, sfreq=1000, ch_types='eeg')\n",
    "raw2 = mne.io.RawArray(data, info)\n",
    "raw2.set_channel_types({'ECG':'ecg',\n",
    "                       'EOG1':'eog',\n",
    "                       'EOG2':'eog'})\n",
    "raw2.set_montage(pos)\n",
    "raw2.pick_types(eeg=True)"
   ]
  },
  {
   "cell_type": "code",
   "execution_count": null,
   "metadata": {},
   "outputs": [],
   "source": [
    "# Estimate PSDs based on \"mean\" and \"median\" averaging for comparison.\n",
    "from mne.time_frequency import psd_welch\n",
    "kwargs = dict(fmin=2, fmax=40, n_jobs=-1, n_fft=1000, n_overlap=0)\n",
    "psds_welch_epoch, freqs_mean = psd_welch(epochs, **kwargs)\n",
    "psds_welch_epoch = psds_welch_epoch.mean(0)\n",
    "psds_welch_concatenated, freqs_median = psd_welch(raw2, **kwargs)\n",
    "\n",
    "# Convert power to dB scale.\n",
    "psds_welch_epoch = 10 * np.log10(psds_welch_epoch)\n",
    "psds_welch_concatenated = 10 * np.log10(psds_welch_concatenated)\n",
    "\n",
    "# We will only plot the PSD for a single sensor in the first epoch.\n",
    "ch_name = 'O1'\n",
    "ch_idx = raw.info['ch_names'].index(ch_name)\n",
    "\n",
    "_, ax = plt.subplots()\n",
    "ax.plot(freqs_mean, psds_welch_epoch[ch_idx, :], color='k',\n",
    "        ls='-', label='RAW')\n",
    "ax.plot(freqs_median, psds_welch_concatenated[ch_idx, :], color='k',\n",
    "        ls='--', label='CONCATENATED')\n",
    "\n",
    "ax.set(title='Welch PSD ({})'.format(ch_name),\n",
    "       xlabel='Frequency (Hz)', ylabel='Power Spectral Density (dB)')\n",
    "ax.legend(loc='upper right')\n",
    "plt.show()"
   ]
  }
 ],
 "metadata": {
  "interpreter": {
   "hash": "d539ee110e3d7f72862ae1acc5ad197a6467511f7b01c5e88c321aa8b0a828d7"
  },
  "kernelspec": {
   "display_name": "Python 3.9.1 64-bit ('base': conda)",
   "language": "python",
   "name": "python3"
  },
  "language_info": {
   "codemirror_mode": {
    "name": "ipython",
    "version": 3
   },
   "file_extension": ".py",
   "mimetype": "text/x-python",
   "name": "python",
   "nbconvert_exporter": "python",
   "pygments_lexer": "ipython3",
   "version": "3.9.1"
  },
  "orig_nbformat": 4
 },
 "nbformat": 4,
 "nbformat_minor": 2
}
