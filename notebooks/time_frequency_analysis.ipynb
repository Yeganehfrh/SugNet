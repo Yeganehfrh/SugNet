{
 "cells": [
  {
   "cell_type": "markdown",
   "metadata": {},
   "source": [
    "# Time-frequency analysis\n",
    "This notebook re-analyzes and extracts power from the \n",
    "resting state???\n",
    "\n",
    "- which method to use: Hilbert-filter, complex morlet wavelet convolution, Short-time FFT (Welch), Multitapers\n",
    "- If we use Welch method what is the size of the fft window? should we have zero paddings? should we have overlap? what to do for the edge artefacts?\n",
    "- Normalization: which method to use? Z transform, percentage change or decibels? which part of the recording should be used as the baseline? which baseline window is the best?"
   ]
  },
  {
   "cell_type": "code",
   "execution_count": 4,
   "metadata": {},
   "outputs": [
    {
     "name": "stdout",
     "output_type": "stream",
     "text": [
      "Reading /Users/yeganeh/Codes/otka-preprocessing/data/clean_data/sub-01_ses-01_task-induction1_epo.fif ...\n",
      "    Found the data of interest:\n",
      "        t =       0.00 ...     999.00 ms\n",
      "        0 CTF compensation matrices available\n",
      "Not setting metadata\n",
      "Not setting metadata\n",
      "270 matching events found\n",
      "No baseline correction applied\n",
      "0 projection items activated\n"
     ]
    }
   ],
   "source": [
    "# setup\n",
    "import mne\n",
    "import numpy as np\n",
    "import pandas as pd\n",
    "import os.path as op\n",
    "import matplotlib.pyplot as plt\n",
    "import mne_bids\n",
    "# from autoreject import get_rejection_threshold\n",
    "# from preprocessing import _epochs_to_continuous, _make_montage\n",
    "# from xarray_creator import _cut_noisy\n",
    "\n",
    "# open preprocessed data\n",
    "n_sub = '01'\n",
    "task = 'induction1'\n",
    "con_dict = {}\n",
    "data_dir = 'data/clean_data'\n",
    "'sub-01_ses-01_task-induction4_epo.fif'\n",
    "epoch_name = f'sub-{n_sub}_ses-01_task-{task}_epo.fif'\n",
    "dir = op.join(data_dir, epoch_name)\n",
    "\n",
    "# open clean epochs\n",
    "# epoch = mne.read_epochs(dir)\n",
    "raw = mne.read_epochs(dir)"
   ]
  },
  {
   "cell_type": "code",
   "execution_count": 8,
   "metadata": {},
   "outputs": [
    {
     "name": "stdout",
     "output_type": "stream",
     "text": [
      "Effective window size : 1.051 (s)\n"
     ]
    }
   ],
   "source": [
    "from mne.time_frequency import psd_welch\n",
    "psd, _ = psd_welch(raw, n_fft=1051, n_per_seg=1051, fmax=40)"
   ]
  },
  {
   "cell_type": "markdown",
   "metadata": {},
   "source": [
    "## The impact of different parameters on welch method\n",
    "Below image shows is that if we use epoched data and then average over the epoch dimention is the same as we concatenate epochs and then calculate the psd using Welch method."
   ]
  },
  {
   "cell_type": "code",
   "execution_count": null,
   "metadata": {},
   "outputs": [],
   "source": [
    "bids_path = mne_bids.BIDSPath(subject='01', session='01', task='baseline1', root='data/BIDS_data')\n",
    "raw = mne_bids.read_raw_bids(bids_path, verbose=False)\n",
    "raw = _cut_noisy(raw, 'baseline1', 'hun')\n",
    "raw.load_data().filter(0.5, 42, h_trans_bandwidth='auto')\n",
    "pos = _make_montage()\n",
    "raw.set_montage(pos)\n",
    "\n",
    "epochs = mne.make_fixed_length_epochs(raw, duration=1)\n",
    "reject = get_rejection_threshold(epochs)\n",
    "epochs.drop_bad(reject=reject)\n",
    "data = _epochs_to_continuous(epochs)\n",
    "info = mne.create_info(ch_names=raw.ch_names, sfreq=1000, ch_types='eeg')\n",
    "raw2 = mne.io.RawArray(data, info)\n",
    "raw2.set_channel_types({'ECG':'ecg',\n",
    "                       'EOG1':'eog',\n",
    "                       'EOG2':'eog'})\n",
    "raw2.set_montage(pos)\n",
    "raw2.pick_types(eeg=True)"
   ]
  },
  {
   "cell_type": "code",
   "execution_count": 17,
   "metadata": {},
   "outputs": [
    {
     "name": "stdout",
     "output_type": "stream",
     "text": [
      "Effective window size : 1.000 (s)\n"
     ]
    },
    {
     "name": "stderr",
     "output_type": "stream",
     "text": [
      "[Parallel(n_jobs=8)]: Using backend LokyBackend with 8 concurrent workers.\n",
      "[Parallel(n_jobs=8)]: Done   3 out of   8 | elapsed:    0.6s remaining:    1.0s\n",
      "[Parallel(n_jobs=8)]: Done   5 out of   8 | elapsed:    0.7s remaining:    0.4s\n",
      "[Parallel(n_jobs=8)]: Done   8 out of   8 | elapsed:    0.8s finished\n"
     ]
    },
    {
     "data": {
      "text/plain": [
       "array([[-121.54787559, -124.58502431, -126.19073461, ..., -128.78153257,\n",
       "        -129.0155386 , -129.2597346 ],\n",
       "       [-120.67487882, -124.10390873, -125.62990388, ..., -126.89432561,\n",
       "        -127.05771763, -127.3329816 ],\n",
       "       [-120.32561669, -123.53133484, -124.06361254, ..., -122.27862073,\n",
       "        -122.66937986, -122.65986749],\n",
       "       ...,\n",
       "       [-118.10734077, -120.79237689, -122.1449324 , ..., -131.88907321,\n",
       "        -132.67882032, -133.10121533],\n",
       "       [-118.25247073, -121.603637  , -123.26744083, ..., -132.26924712,\n",
       "        -133.58716617, -133.25898229],\n",
       "       [-118.89900726, -121.51997543, -122.43463921, ..., -133.84260837,\n",
       "        -133.995091  , -134.53661044]])"
      ]
     },
     "execution_count": 17,
     "metadata": {},
     "output_type": "execute_result"
    }
   ],
   "source": [
    "psds_welch_concatenated, freqs_median = psd_welch(raw, **kwargs)\n",
    "psds_welch_concatenated = 10. * np.log10(psds_welch_concatenated)\n",
    "psds_welch_concatenated = psds_welch_concatenated.mean(0)\n",
    "psds_welch_concatenated"
   ]
  },
  {
   "cell_type": "code",
   "execution_count": null,
   "metadata": {},
   "outputs": [],
   "source": [
    "kwargs = dict(fmin=2, fmax=40, n_jobs=-1, n_fft=1000, n_overlap=0)\n",
    "psds_welch_epoch, freqs_mean = psd_welch(epochs, **kwargs)\n",
    "psds_welch_epoch = psds_welch_epoch.mean(0)\n",
    "psds_welch_concatenated, freqs_median = psd_welch(raw2, **kwargs)\n",
    "\n",
    "# Convert power to dB scale.\n",
    "psds_welch_epoch = 10 * np.log10(psds_welch_epoch)\n",
    "psds_welch_concatenated = 10 * np.log10(psds_welch_concatenated)\n",
    "\n",
    "# We will only plot the PSD for a single sensor in the first epoch.\n",
    "ch_name = 'O1'\n",
    "ch_idx = raw.info['ch_names'].index(ch_name)\n",
    "\n",
    "_, ax = plt.subplots()\n",
    "ax.plot(freqs_mean, psds_welch_epoch[ch_idx, :], color='k',\n",
    "        ls='-', label='RAW')\n",
    "ax.plot(freqs_median, psds_welch_concatenated[ch_idx, :], color='k',\n",
    "        ls='--', label='CONCATENATED')\n",
    "\n",
    "ax.set(title='Welch PSD ({})'.format(ch_name),\n",
    "       xlabel='Frequency (Hz)', ylabel='Power Spectral Density (dB)')\n",
    "ax.legend(loc='upper right')\n",
    "plt.show()"
   ]
  },
  {
   "cell_type": "code",
   "execution_count": 20,
   "metadata": {},
   "outputs": [
    {
     "name": "stdout",
     "output_type": "stream",
     "text": [
      "Effective window size : 1.000 (s)\n"
     ]
    },
    {
     "name": "stderr",
     "output_type": "stream",
     "text": [
      "[Parallel(n_jobs=8)]: Using backend LokyBackend with 8 concurrent workers.\n",
      "[Parallel(n_jobs=8)]: Done   3 out of   8 | elapsed:    0.6s remaining:    1.0s\n",
      "[Parallel(n_jobs=8)]: Done   5 out of   8 | elapsed:    0.7s remaining:    0.4s\n",
      "[Parallel(n_jobs=8)]: Done   8 out of   8 | elapsed:    0.7s finished\n"
     ]
    },
    {
     "name": "stdout",
     "output_type": "stream",
     "text": [
      "Effective window size : 1.000 (s)\n"
     ]
    },
    {
     "name": "stderr",
     "output_type": "stream",
     "text": [
      "[Parallel(n_jobs=8)]: Using backend LokyBackend with 8 concurrent workers.\n",
      "[Parallel(n_jobs=8)]: Done   3 out of   8 | elapsed:    0.6s remaining:    1.1s\n",
      "[Parallel(n_jobs=8)]: Done   5 out of   8 | elapsed:    0.7s remaining:    0.4s\n",
      "[Parallel(n_jobs=8)]: Done   8 out of   8 | elapsed:    0.8s finished\n"
     ]
    },
    {
     "data": {
      "image/png": "[encoded data removed]",
      "text/plain": [
       "<Figure size 432x288 with 1 Axes>"
      ]
     },
     "metadata": {
      "needs_background": "light"
     },
     "output_type": "display_data"
    }
   ],
   "source": [
    "# examining the order of transformation and averaging\n",
    "\n",
    "kwargs = dict(fmin=2, fmax=40, n_jobs=-1, n_fft=1000, n_overlap=0)\n",
    "psds_welch_epoch, freqs_mean = psd_welch(raw, **kwargs)\n",
    "psds_welch_epoch = psds_welch_epoch.mean(0)\n",
    "psds_welch_epoch = 10. * np.log10(psds_welch_epoch)\n",
    "psds_welch_concatenated, freqs_median = psd_welch(raw, **kwargs)\n",
    "psds_welch_concatenated = 10. * np.log10(psds_welch_concatenated)\n",
    "psds_welch_concatenated = psds_welch_concatenated.mean(0)\n",
    "\n",
    "# We will only plot the PSD for a single sensor\n",
    "ch_name = 'O1'\n",
    "ch_idx = raw.info['ch_names'].index(ch_name)\n",
    "\n",
    "_, ax = plt.subplots()\n",
    "ax.plot(freqs_mean, psds_welch_epoch[ch_idx, :], color='k',\n",
    "        ls='-', label='RAW')\n",
    "ax.plot(freqs_median, psds_welch_concatenated[ch_idx, :], color='k',\n",
    "        ls='--', label='CONCATENATED')\n",
    "\n",
    "ax.set(title='Welch PSD ({})'.format(ch_name),\n",
    "       xlabel='Frequency (Hz)', ylabel='Power Spectral Density (dB)')\n",
    "ax.legend(loc='upper right')\n",
    "plt.show()"
   ]
  }
 ],
 "metadata": {
  "interpreter": {
   "hash": "d539ee110e3d7f72862ae1acc5ad197a6467511f7b01c5e88c321aa8b0a828d7"
  },
  "kernelspec": {
   "display_name": "Python 3.9.1 64-bit ('base': conda)",
   "language": "python",
   "name": "python3"
  },
  "language_info": {
   "codemirror_mode": {
    "name": "ipython",
    "version": 3
   },
   "file_extension": ".py",
   "mimetype": "text/x-python",
   "name": "python",
   "nbconvert_exporter": "python",
   "pygments_lexer": "ipython3",
   "version": "3.9.1"
  },
  "orig_nbformat": 4
 },
 "nbformat": 4,
 "nbformat_minor": 2
}
